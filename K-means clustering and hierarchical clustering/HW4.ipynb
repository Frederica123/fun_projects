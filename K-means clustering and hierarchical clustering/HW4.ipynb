{
 "cells": [
  {
   "cell_type": "markdown",
   "id": "6a9caa7d",
   "metadata": {},
   "source": [
    "# Homework 4"
   ]
  },
  {
   "cell_type": "code",
   "execution_count": 2,
   "id": "220b9468",
   "metadata": {},
   "outputs": [],
   "source": [
    "library(tree)"
   ]
  },
  {
   "cell_type": "markdown",
   "id": "688ef7ff",
   "metadata": {},
   "source": [
    "## Problem 1"
   ]
  },
  {
   "cell_type": "markdown",
   "id": "7c27e9e6",
   "metadata": {},
   "source": [
    "### (a)"
   ]
  },
  {
   "cell_type": "code",
   "execution_count": 142,
   "id": "69f60041",
   "metadata": {},
   "outputs": [],
   "source": [
    "tahoe<-read.csv(\"Tahoe_Healthcare_Data.csv\")"
   ]
  },
  {
   "cell_type": "code",
   "execution_count": 143,
   "id": "6d98ed47",
   "metadata": {},
   "outputs": [
    {
     "data": {
      "text/html": [
       "<table class=\"dataframe\">\n",
       "<caption>A data.frame: 6 × 7</caption>\n",
       "<thead>\n",
       "\t<tr><th></th><th scope=col>age</th><th scope=col>female</th><th scope=col>flu_season</th><th scope=col>ed_admit</th><th scope=col>severity.score</th><th scope=col>comorbidity.score</th><th scope=col>readmit30</th></tr>\n",
       "\t<tr><th></th><th scope=col>&lt;int&gt;</th><th scope=col>&lt;int&gt;</th><th scope=col>&lt;int&gt;</th><th scope=col>&lt;int&gt;</th><th scope=col>&lt;int&gt;</th><th scope=col>&lt;int&gt;</th><th scope=col>&lt;int&gt;</th></tr>\n",
       "</thead>\n",
       "<tbody>\n",
       "\t<tr><th scope=row>1</th><td>100</td><td>1</td><td>1</td><td>1</td><td>38</td><td>112</td><td>0</td></tr>\n",
       "\t<tr><th scope=row>2</th><td> 83</td><td>1</td><td>0</td><td>1</td><td> 8</td><td>109</td><td>1</td></tr>\n",
       "\t<tr><th scope=row>3</th><td> 74</td><td>0</td><td>1</td><td>0</td><td> 1</td><td> 80</td><td>0</td></tr>\n",
       "\t<tr><th scope=row>4</th><td> 66</td><td>1</td><td>1</td><td>1</td><td>25</td><td>  4</td><td>0</td></tr>\n",
       "\t<tr><th scope=row>5</th><td> 68</td><td>1</td><td>1</td><td>1</td><td>25</td><td> 32</td><td>0</td></tr>\n",
       "\t<tr><th scope=row>6</th><td> 80</td><td>1</td><td>0</td><td>1</td><td>29</td><td>172</td><td>0</td></tr>\n",
       "</tbody>\n",
       "</table>\n"
      ],
      "text/latex": [
       "A data.frame: 6 × 7\n",
       "\\begin{tabular}{r|lllllll}\n",
       "  & age & female & flu\\_season & ed\\_admit & severity.score & comorbidity.score & readmit30\\\\\n",
       "  & <int> & <int> & <int> & <int> & <int> & <int> & <int>\\\\\n",
       "\\hline\n",
       "\t1 & 100 & 1 & 1 & 1 & 38 & 112 & 0\\\\\n",
       "\t2 &  83 & 1 & 0 & 1 &  8 & 109 & 1\\\\\n",
       "\t3 &  74 & 0 & 1 & 0 &  1 &  80 & 0\\\\\n",
       "\t4 &  66 & 1 & 1 & 1 & 25 &   4 & 0\\\\\n",
       "\t5 &  68 & 1 & 1 & 1 & 25 &  32 & 0\\\\\n",
       "\t6 &  80 & 1 & 0 & 1 & 29 & 172 & 0\\\\\n",
       "\\end{tabular}\n"
      ],
      "text/markdown": [
       "\n",
       "A data.frame: 6 × 7\n",
       "\n",
       "| <!--/--> | age &lt;int&gt; | female &lt;int&gt; | flu_season &lt;int&gt; | ed_admit &lt;int&gt; | severity.score &lt;int&gt; | comorbidity.score &lt;int&gt; | readmit30 &lt;int&gt; |\n",
       "|---|---|---|---|---|---|---|---|\n",
       "| 1 | 100 | 1 | 1 | 1 | 38 | 112 | 0 |\n",
       "| 2 |  83 | 1 | 0 | 1 |  8 | 109 | 1 |\n",
       "| 3 |  74 | 0 | 1 | 0 |  1 |  80 | 0 |\n",
       "| 4 |  66 | 1 | 1 | 1 | 25 |   4 | 0 |\n",
       "| 5 |  68 | 1 | 1 | 1 | 25 |  32 | 0 |\n",
       "| 6 |  80 | 1 | 0 | 1 | 29 | 172 | 0 |\n",
       "\n"
      ],
      "text/plain": [
       "  age female flu_season ed_admit severity.score comorbidity.score readmit30\n",
       "1 100 1      1          1        38             112               0        \n",
       "2  83 1      0          1         8             109               1        \n",
       "3  74 0      1          0         1              80               0        \n",
       "4  66 1      1          1        25               4               0        \n",
       "5  68 1      1          1        25              32               0        \n",
       "6  80 1      0          1        29             172               0        "
      ]
     },
     "metadata": {},
     "output_type": "display_data"
    }
   ],
   "source": [
    "head(tahoe)"
   ]
  },
  {
   "cell_type": "code",
   "execution_count": 144,
   "id": "4f4a109d",
   "metadata": {},
   "outputs": [
    {
     "name": "stdout",
     "output_type": "stream",
     "text": [
      "'data.frame':\t4382 obs. of  7 variables:\n",
      " $ age              : int  100 83 74 66 68 80 71 72 69 65 ...\n",
      " $ female           : int  1 1 0 1 1 1 1 0 1 1 ...\n",
      " $ flu_season       : int  1 0 1 1 1 0 0 0 0 0 ...\n",
      " $ ed_admit         : int  1 1 0 1 1 1 1 0 1 0 ...\n",
      " $ severity.score   : int  38 8 1 25 25 29 31 47 44 10 ...\n",
      " $ comorbidity.score: int  112 109 80 4 32 172 271 221 193 130 ...\n",
      " $ readmit30        : int  0 1 0 0 0 0 1 1 0 0 ...\n"
     ]
    }
   ],
   "source": [
    "str(tahoe)"
   ]
  },
  {
   "cell_type": "code",
   "execution_count": 145,
   "id": "2413ec2d",
   "metadata": {},
   "outputs": [],
   "source": [
    "tahoe$readmit30 <- factor(tahoe$readmit30)"
   ]
  },
  {
   "cell_type": "code",
   "execution_count": 146,
   "id": "1cc693c3",
   "metadata": {},
   "outputs": [
    {
     "name": "stdout",
     "output_type": "stream",
     "text": [
      "'data.frame':\t4382 obs. of  7 variables:\n",
      " $ age              : int  100 83 74 66 68 80 71 72 69 65 ...\n",
      " $ female           : int  1 1 0 1 1 1 1 0 1 1 ...\n",
      " $ flu_season       : int  1 0 1 1 1 0 0 0 0 0 ...\n",
      " $ ed_admit         : int  1 1 0 1 1 1 1 0 1 0 ...\n",
      " $ severity.score   : int  38 8 1 25 25 29 31 47 44 10 ...\n",
      " $ comorbidity.score: int  112 109 80 4 32 172 271 221 193 130 ...\n",
      " $ readmit30        : Factor w/ 2 levels \"0\",\"1\": 1 2 1 1 1 1 2 2 1 1 ...\n"
     ]
    }
   ],
   "source": [
    "str(tahoe)"
   ]
  },
  {
   "cell_type": "code",
   "execution_count": 147,
   "id": "f54f25d8",
   "metadata": {},
   "outputs": [],
   "source": [
    "tree_tahoe<-tree(readmit30 ~ . , data = tahoe, split = \"deviance\", minsize=4, mindev=1e-3)"
   ]
  },
  {
   "cell_type": "code",
   "execution_count": 148,
   "id": "0fc7516c",
   "metadata": {
    "scrolled": false
   },
   "outputs": [
    {
     "data": {
      "text/plain": [
       "node), split, n, deviance, yval, (yprob)\n",
       "      * denotes terminal node\n",
       "\n",
       "  1) root 4382 4702.000 0 ( 0.77225 0.22775 )  \n",
       "    2) comorbidity.score < 121.5 3084 2440.000 0 ( 0.86511 0.13489 )  \n",
       "      4) severity.score < 31.5 2423 1609.000 0 ( 0.89682 0.10318 )  \n",
       "        8) comorbidity.score < 68.5 1337  616.700 0 ( 0.93867 0.06133 )  \n",
       "         16) flu_season < 0.5 790  255.100 0 ( 0.96203 0.03797 )  \n",
       "           32) severity.score < 14.5 444   80.120 0 ( 0.98198 0.01802 )  \n",
       "             64) comorbidity.score < 64.5 415   54.130 0 ( 0.98795 0.01205 ) *\n",
       "             65) comorbidity.score > 64.5 29   19.290 0 ( 0.89655 0.10345 )  \n",
       "              130) severity.score < 7.5 16    0.000 0 ( 1.00000 0.00000 ) *\n",
       "              131) severity.score > 7.5 13   14.050 0 ( 0.76923 0.23077 )  \n",
       "                262) severity.score < 8.5 2    0.000 1 ( 0.00000 1.00000 ) *\n",
       "                263) severity.score > 8.5 11    6.702 0 ( 0.90909 0.09091 ) *\n",
       "           33) severity.score > 14.5 346  163.800 0 ( 0.93642 0.06358 )  \n",
       "             66) age < 67.5 47    0.000 0 ( 1.00000 0.00000 ) *\n",
       "             67) age > 67.5 299  157.200 0 ( 0.92642 0.07358 ) *\n",
       "         17) flu_season > 0.5 547  343.600 0 ( 0.90494 0.09506 ) *\n",
       "        9) comorbidity.score > 68.5 1086  935.600 0 ( 0.84530 0.15470 )  \n",
       "         18) severity.score < 11.5 500  346.500 0 ( 0.89000 0.11000 )  \n",
       "           36) severity.score < 9.5 434  326.100 0 ( 0.87558 0.12442 ) *\n",
       "           37) severity.score > 9.5 66   10.360 0 ( 0.98485 0.01515 )  \n",
       "             74) age < 87 63    0.000 0 ( 1.00000 0.00000 ) *\n",
       "             75) age > 87 3    3.819 0 ( 0.66667 0.33333 ) *\n",
       "         19) severity.score > 11.5 586  574.600 0 ( 0.80717 0.19283 )  \n",
       "           38) flu_season < 0.5 346  296.300 0 ( 0.84682 0.15318 )  \n",
       "             76) comorbidity.score < 118.5 330  290.800 0 ( 0.83939 0.16061 )  \n",
       "              152) comorbidity.score < 100.5 218  167.200 0 ( 0.87156 0.12844 ) *\n",
       "              153) comorbidity.score > 100.5 112  118.900 0 ( 0.77679 0.22321 ) *\n",
       "             77) comorbidity.score > 118.5 16    0.000 0 ( 1.00000 0.00000 ) *\n",
       "           39) flu_season > 0.5 240  269.900 0 ( 0.75000 0.25000 )  \n",
       "             78) female < 0.5 118  107.400 0 ( 0.83051 0.16949 ) *\n",
       "             79) female > 0.5 122  154.400 0 ( 0.67213 0.32787 )  \n",
       "              158) age < 74.5 44   41.720 0 ( 0.81818 0.18182 ) *\n",
       "              159) age > 74.5 78  105.600 0 ( 0.58974 0.41026 ) *\n",
       "      5) severity.score > 31.5 661  745.100 0 ( 0.74887 0.25113 )  \n",
       "       10) comorbidity.score < 47.5 195  153.100 0 ( 0.86667 0.13333 )  \n",
       "         20) severity.score < 85 192  140.700 0 ( 0.88021 0.11979 )  \n",
       "           40) age < 88.5 164  133.000 0 ( 0.85976 0.14024 )  \n",
       "             80) comorbidity.score < 45.5 149  128.200 0 ( 0.84564 0.15436 ) *\n",
       "             81) comorbidity.score > 45.5 15    0.000 0 ( 1.00000 0.00000 ) *\n",
       "           41) age > 88.5 28    0.000 0 ( 1.00000 0.00000 ) *\n",
       "         21) severity.score > 85 3    0.000 1 ( 0.00000 1.00000 ) *\n",
       "       11) comorbidity.score > 47.5 466  569.700 0 ( 0.69957 0.30043 )  \n",
       "         22) severity.score < 54.5 362  418.800 0 ( 0.73481 0.26519 )  \n",
       "           44) age < 75.5 121  111.700 0 ( 0.82645 0.17355 ) *\n",
       "           45) age > 75.5 241  298.900 0 ( 0.68880 0.31120 )  \n",
       "             90) comorbidity.score < 80.5 113  124.300 0 ( 0.76106 0.23894 ) *\n",
       "             91) comorbidity.score > 80.5 128  169.400 0 ( 0.62500 0.37500 )  \n",
       "              182) comorbidity.score < 115.5 108  146.700 0 ( 0.58333 0.41667 ) *\n",
       "              183) comorbidity.score > 115.5 20   16.910 0 ( 0.85000 0.15000 )  \n",
       "                366) severity.score < 39.5 8   10.590 0 ( 0.62500 0.37500 ) *\n",
       "                367) severity.score > 39.5 12    0.000 0 ( 1.00000 0.00000 ) *\n",
       "         23) severity.score > 54.5 104  141.700 0 ( 0.57692 0.42308 )  \n",
       "           46) female < 0.5 41   55.640 1 ( 0.41463 0.58537 ) *\n",
       "           47) female > 0.5 63   78.740 0 ( 0.68254 0.31746 )  \n",
       "             94) comorbidity.score < 104.5 53   59.050 0 ( 0.75472 0.24528 ) *\n",
       "             95) comorbidity.score > 104.5 10   12.220 1 ( 0.30000 0.70000 )  \n",
       "              190) age < 77.5 5    0.000 1 ( 0.00000 1.00000 ) *\n",
       "              191) age > 77.5 5    6.730 0 ( 0.60000 0.40000 ) *\n",
       "    3) comorbidity.score > 121.5 1298 1786.000 0 ( 0.55162 0.44838 )  \n",
       "      6) comorbidity.score < 167.5 770 1001.000 0 ( 0.64545 0.35455 )  \n",
       "       12) flu_season < 0.5 467  542.600 0 ( 0.73233 0.26767 )  \n",
       "         24) severity.score < 43.5 395  419.000 0 ( 0.77722 0.22278 )  \n",
       "           48) age < 92.5 386  396.600 0 ( 0.79016 0.20984 ) *\n",
       "           49) age > 92.5 9    9.535 1 ( 0.22222 0.77778 ) *\n",
       "         25) severity.score > 43.5 72   99.760 1 ( 0.48611 0.51389 ) *\n",
       "       13) flu_season > 0.5 303  419.900 0 ( 0.51155 0.48845 )  \n",
       "         26) severity.score < 26.5 177  239.200 0 ( 0.59322 0.40678 )  \n",
       "           52) comorbidity.score < 166.5 172  233.900 0 ( 0.58140 0.41860 ) *\n",
       "           53) comorbidity.score > 166.5 5    0.000 0 ( 1.00000 0.00000 ) *\n",
       "         27) severity.score > 26.5 126  169.300 1 ( 0.39683 0.60317 )  \n",
       "           54) severity.score < 66.5 114  155.800 1 ( 0.42982 0.57018 )  \n",
       "            108) comorbidity.score < 152.5 83  115.100 0 ( 0.50602 0.49398 ) *\n",
       "            109) comorbidity.score > 152.5 31   33.120 1 ( 0.22581 0.77419 )  \n",
       "              218) comorbidity.score < 159.5 13    0.000 1 ( 0.00000 1.00000 ) *\n",
       "              219) comorbidity.score > 159.5 18   24.060 1 ( 0.38889 0.61111 )  \n",
       "                438) severity.score < 34 7    8.376 0 ( 0.71429 0.28571 ) *\n",
       "                439) severity.score > 34 11   10.430 1 ( 0.18182 0.81818 ) *\n",
       "           55) severity.score > 66.5 12    6.884 1 ( 0.08333 0.91667 ) *\n",
       "      7) comorbidity.score > 167.5 528  716.500 1 ( 0.41477 0.58523 )  \n",
       "       14) severity.score < 29.5 270  374.300 0 ( 0.50370 0.49630 )  \n",
       "         28) comorbidity.score < 219.5 206  280.600 0 ( 0.57767 0.42233 )  \n",
       "           56) flu_season < 0.5 117  148.900 0 ( 0.66667 0.33333 )  \n",
       "            112) age < 86.5 106  139.500 0 ( 0.63208 0.36792 )  \n",
       "              224) comorbidity.score < 214.5 101  134.700 0 ( 0.61386 0.38614 ) *\n",
       "              225) comorbidity.score > 214.5 5    0.000 0 ( 1.00000 0.00000 ) *\n",
       "            113) age > 86.5 11    0.000 0 ( 1.00000 0.00000 ) *\n",
       "           57) flu_season > 0.5 89  122.800 1 ( 0.46067 0.53933 ) *\n",
       "         29) comorbidity.score > 219.5 64   74.090 1 ( 0.26562 0.73438 )  \n",
       "           58) age < 75.5 27   18.840 1 ( 0.11111 0.88889 ) *\n",
       "           59) age > 75.5 37   49.080 1 ( 0.37838 0.62162 )  \n",
       "            118) flu_season < 0.5 19   25.010 0 ( 0.63158 0.36842 )  \n",
       "              236) comorbidity.score < 253 14   19.410 0 ( 0.50000 0.50000 )  \n",
       "                472) severity.score < 11.5 3    0.000 1 ( 0.00000 1.00000 ) *\n",
       "                473) severity.score > 11.5 11   14.420 0 ( 0.63636 0.36364 )  \n",
       "                  946) comorbidity.score < 232 7    9.561 1 ( 0.42857 0.57143 ) *\n",
       "                  947) comorbidity.score > 232 4    0.000 0 ( 1.00000 0.00000 ) *\n",
       "              237) comorbidity.score > 253 5    0.000 0 ( 1.00000 0.00000 ) *\n",
       "            119) flu_season > 0.5 18   12.560 1 ( 0.11111 0.88889 ) *\n",
       "       15) severity.score > 29.5 258  324.100 1 ( 0.32171 0.67829 )  \n",
       "         30) flu_season < 0.5 159  210.800 1 ( 0.37736 0.62264 )  \n",
       "           60) severity.score < 35.5 38   39.110 1 ( 0.21053 0.78947 ) *\n",
       "           61) severity.score > 35.5 121  165.300 1 ( 0.42975 0.57025 )  \n",
       "            122) severity.score < 64 107  147.900 1 ( 0.46729 0.53271 ) *\n",
       "            123) severity.score > 64 14   11.480 1 ( 0.14286 0.85714 ) *\n",
       "         31) flu_season > 0.5 99  107.300 1 ( 0.23232 0.76768 )  \n",
       "           62) age < 74.5 25   13.940 1 ( 0.08000 0.92000 ) *\n",
       "           63) age > 74.5 74   88.280 1 ( 0.28378 0.71622 ) *"
      ]
     },
     "metadata": {},
     "output_type": "display_data"
    }
   ],
   "source": [
    "tree_tahoe"
   ]
  },
  {
   "cell_type": "code",
   "execution_count": 149,
   "id": "22ca7dd8",
   "metadata": {},
   "outputs": [
    {
     "data": {
      "text/plain": [
       "\n",
       "Classification tree:\n",
       "tree(formula = readmit30 ~ ., data = tahoe, split = \"deviance\", \n",
       "    minsize = 4, mindev = 0.001)\n",
       "Variables actually used in tree construction:\n",
       "[1] \"comorbidity.score\" \"severity.score\"    \"flu_season\"       \n",
       "[4] \"age\"               \"female\"           \n",
       "Number of terminal nodes:  54 \n",
       "Residual mean deviance:  0.8214 = 3555 / 4328 \n",
       "Misclassification error rate: 0.1839 = 806 / 4382 "
      ]
     },
     "metadata": {},
     "output_type": "display_data"
    }
   ],
   "source": [
    "summary(tree_tahoe)"
   ]
  },
  {
   "cell_type": "code",
   "execution_count": 150,
   "id": "9c701718",
   "metadata": {},
   "outputs": [
    {
     "data": {
      "image/png": "[encoded data removed]",
      "text/plain": [
       "plot without title"
      ]
     },
     "metadata": {
      "image/png": {
       "height": 420,
       "width": 420
      }
     },
     "output_type": "display_data"
    }
   ],
   "source": [
    "plot(tree_tahoe)\n",
    "text(tree_tahoe,pretty=0)"
   ]
  },
  {
   "cell_type": "markdown",
   "id": "40dc500c",
   "metadata": {},
   "source": [
    "### (b)"
   ]
  },
  {
   "cell_type": "code",
   "execution_count": 163,
   "id": "0d714357",
   "metadata": {},
   "outputs": [],
   "source": [
    "cv.tree_tahoe<-cv.tree(tree_tahoe, FUN = prune.misclass, K = 7)"
   ]
  },
  {
   "cell_type": "code",
   "execution_count": 164,
   "id": "a3e29850",
   "metadata": {},
   "outputs": [
    {
     "data": {
      "text/html": [
       "<style>\n",
       ".list-inline {list-style: none; margin:0; padding: 0}\n",
       ".list-inline>li {display: inline-block}\n",
       ".list-inline>li:not(:last-child)::after {content: \"\\00b7\"; padding: 0 .5ex}\n",
       "</style>\n",
       "<ol class=list-inline><li>'size'</li><li>'dev'</li><li>'k'</li><li>'method'</li></ol>\n"
      ],
      "text/latex": [
       "\\begin{enumerate*}\n",
       "\\item 'size'\n",
       "\\item 'dev'\n",
       "\\item 'k'\n",
       "\\item 'method'\n",
       "\\end{enumerate*}\n"
      ],
      "text/markdown": [
       "1. 'size'\n",
       "2. 'dev'\n",
       "3. 'k'\n",
       "4. 'method'\n",
       "\n",
       "\n"
      ],
      "text/plain": [
       "[1] \"size\"   \"dev\"    \"k\"      \"method\""
      ]
     },
     "metadata": {},
     "output_type": "display_data"
    }
   ],
   "source": [
    "names(cv.tree_tahoe)"
   ]
  },
  {
   "cell_type": "code",
   "execution_count": 165,
   "id": "3ed7d1f4",
   "metadata": {},
   "outputs": [
    {
     "data": {
      "image/png": "[encoded data removed]",
      "text/plain": [
       "plot without title"
      ]
     },
     "metadata": {
      "image/png": {
       "height": 420,
       "width": 420
      }
     },
     "output_type": "display_data"
    }
   ],
   "source": [
    "plot(cv.tree_tahoe)"
   ]
  },
  {
   "cell_type": "code",
   "execution_count": 166,
   "id": "a31c882f",
   "metadata": {},
   "outputs": [
    {
     "data": {
      "image/png": "[encoded data removed]",
      "text/plain": [
       "plot without title"
      ]
     },
     "metadata": {
      "image/png": {
       "height": 420,
       "width": 420
      }
     },
     "output_type": "display_data"
    }
   ],
   "source": [
    "par(mfrow = c(1,2))\n",
    "#Here deviance is actually the number of misclassification\n",
    "plot(cv.tree_tahoe$size,cv.tree_tahoe$dev,type = \"b\")\n",
    "plot(cv.tree_tahoe$k,cv.tree_tahoe$dev,type = \"b\")"
   ]
  },
  {
   "cell_type": "code",
   "execution_count": 167,
   "id": "cedc6e9a",
   "metadata": {},
   "outputs": [
    {
     "data": {
      "text/plain": [
       "$size\n",
       " [1] 54 32 26 20 18 12 10  8  7  5  3  1\n",
       "\n",
       "$dev\n",
       " [1] 919 919 919 919 919 919 919 919 919 919 919 998\n",
       "\n",
       "$k\n",
       " [1]       -Inf  0.0000000  0.3333333  1.0000000  1.5000000  2.3333333\n",
       " [7]  2.5000000  3.5000000  7.0000000 13.0000000 16.0000000 45.0000000\n",
       "\n",
       "$method\n",
       "[1] \"misclass\"\n",
       "\n",
       "attr(,\"class\")\n",
       "[1] \"prune\"         \"tree.sequence\""
      ]
     },
     "metadata": {},
     "output_type": "display_data"
    }
   ],
   "source": [
    "cv.tree_tahoe"
   ]
  },
  {
   "cell_type": "code",
   "execution_count": 168,
   "id": "1d433b48",
   "metadata": {},
   "outputs": [],
   "source": [
    "prune.cv.tree_tahoe = prune.tree(tree_tahoe, best=3)"
   ]
  },
  {
   "cell_type": "code",
   "execution_count": 169,
   "id": "51234165",
   "metadata": {},
   "outputs": [
    {
     "data": {
      "image/png": "[encoded data removed]",
      "text/plain": [
       "plot without title"
      ]
     },
     "metadata": {
      "image/png": {
       "height": 420,
       "width": 420
      }
     },
     "output_type": "display_data"
    }
   ],
   "source": [
    "# final pruned tree\n",
    "plot(prune.cv.tree_tahoe)\n",
    "text(prune.cv.tree_tahoe, pretty = 0)"
   ]
  },
  {
   "cell_type": "markdown",
   "id": "756ac76a",
   "metadata": {},
   "source": [
    "### (c)"
   ]
  },
  {
   "cell_type": "code",
   "execution_count": 170,
   "id": "0c32bd02",
   "metadata": {},
   "outputs": [
    {
     "data": {
      "text/plain": [
       "node), split, n, deviance, yval, (yprob)\n",
       "      * denotes terminal node\n",
       "\n",
       "1) root 4382 4702.0 0 ( 0.7723 0.2277 )  \n",
       "  2) comorbidity.score < 121.5 3084 2440.0 0 ( 0.8651 0.1349 )  \n",
       "    4) severity.score < 31.5 2423 1609.0 0 ( 0.8968 0.1032 ) *\n",
       "    5) severity.score > 31.5 661  745.1 0 ( 0.7489 0.2511 ) *\n",
       "  3) comorbidity.score > 121.5 1298 1786.0 0 ( 0.5516 0.4484 ) *"
      ]
     },
     "metadata": {},
     "output_type": "display_data"
    }
   ],
   "source": [
    "prune.cv.tree_tahoe"
   ]
  },
  {
   "cell_type": "code",
   "execution_count": 171,
   "id": "908f0289",
   "metadata": {},
   "outputs": [
    {
     "data": {
      "text/html": [
       "1959"
      ],
      "text/latex": [
       "1959"
      ],
      "text/markdown": [
       "1959"
      ],
      "text/plain": [
       "[1] 1959"
      ]
     },
     "metadata": {},
     "output_type": "display_data"
    }
   ],
   "source": [
    "# predict(prune.cv.tree_tahoe,newdata =tahoe)[,2] denotes the probability of readmit30 =1\n",
    "# so sum (predict(prune.cv.tree_tahoe,newdata =tahoe)[,2]>0.15 returns the number of people exceeding threshold 0.15\n",
    "sum (predict(prune.cv.tree_tahoe,newdata =tahoe)[,2]>0.15)"
   ]
  },
  {
   "cell_type": "markdown",
   "id": "b4a23277",
   "metadata": {},
   "source": [
    "<b>We could also get this number by choosing leaf node 5) 3) as they pass threshold 0.15, so the total number of people should receive CareTracker is 661 + 1298 = 1959. <b>"
   ]
  },
  {
   "cell_type": "code",
   "execution_count": 172,
   "id": "cd79bf6b",
   "metadata": {},
   "outputs": [
    {
     "data": {
      "text/html": [
       "4382"
      ],
      "text/latex": [
       "4382"
      ],
      "text/markdown": [
       "4382"
      ],
      "text/plain": [
       "[1] 4382"
      ]
     },
     "metadata": {},
     "output_type": "display_data"
    }
   ],
   "source": [
    "nrow(tahoe)"
   ]
  },
  {
   "cell_type": "code",
   "execution_count": 173,
   "id": "406c085c",
   "metadata": {},
   "outputs": [
    {
     "data": {
      "text/html": [
       "0.44705613874943"
      ],
      "text/latex": [
       "0.44705613874943"
      ],
      "text/markdown": [
       "0.44705613874943"
      ],
      "text/plain": [
       "[1] 0.4470561"
      ]
     },
     "metadata": {},
     "output_type": "display_data"
    }
   ],
   "source": [
    "1959/4382"
   ]
  },
  {
   "cell_type": "markdown",
   "id": "9439a494",
   "metadata": {},
   "source": [
    "<b>So the percentage is 1959/4382 = 44.7 %<b>"
   ]
  },
  {
   "cell_type": "markdown",
   "id": "a84e3413",
   "metadata": {},
   "source": [
    "### (d)"
   ]
  },
  {
   "cell_type": "markdown",
   "id": "dcd2f8fb",
   "metadata": {},
   "source": [
    "<b> We pick demographic parity and unawareness as fairness measures."
   ]
  },
  {
   "cell_type": "code",
   "execution_count": 174,
   "id": "ef25b753",
   "metadata": {},
   "outputs": [
    {
     "name": "stdout",
     "output_type": "stream",
     "text": [
      "[1] 0.4815175 0.4165950\n"
     ]
    },
    {
     "data": {
      "text/html": [
       "0.0649224968299481"
      ],
      "text/latex": [
       "0.0649224968299481"
      ],
      "text/markdown": [
       "0.0649224968299481"
      ],
      "text/plain": [
       "[1] 0.0649225"
      ]
     },
     "metadata": {},
     "output_type": "display_data"
    }
   ],
   "source": [
    "# demographic parity - P(C(X,A) = 1 |A = 1) = P(C(X,A) = 1 |A = 0)\n",
    "# p1 denotes the probability of receiving CareTracker for females\n",
    "# p1 denotes the probability of receiving CareTracker for non-females\n",
    "number.females = sum(tahoe$female==1)\n",
    "number.non_females = sum(tahoe$female==0)\n",
    "number.females.withCareTacker = sum(predict(prune.cv.tree_tahoe,newdata =tahoe[tahoe$female==1,])[,2]>0.15)\n",
    "number.non_females.withCareTacker = sum(predict(prune.cv.tree_tahoe,newdata =tahoe[tahoe$female==0,])[,2]>0.15)\n",
    "p1 = number.females.withCareTacker/number.females\n",
    "p2 = number.non_females.withCareTacker / number.non_females\n",
    "print(c(p1,p2))\n",
    "p1-p2"
   ]
  },
  {
   "cell_type": "markdown",
   "id": "5ac63e62",
   "metadata": {},
   "source": [
    "<b>We still have 6.49% gap between females and non-females<b>"
   ]
  },
  {
   "cell_type": "code",
   "execution_count": 175,
   "id": "2932f065",
   "metadata": {},
   "outputs": [
    {
     "name": "stdout",
     "output_type": "stream",
     "text": [
      "[1] 0.4470561 0.4470561\n"
     ]
    },
    {
     "data": {
      "text/html": [
       "0"
      ],
      "text/latex": [
       "0"
      ],
      "text/markdown": [
       "0"
      ],
      "text/plain": [
       "[1] 0"
      ]
     },
     "metadata": {},
     "output_type": "display_data"
    }
   ],
   "source": [
    "# unawareness - P(C(X, A) = 1) = P(C(X) = 1)\n",
    "# p.XA denotes the probability of receiving CareTracker awaring of gender\n",
    "# p.XA denotes the probability of receiving CareTracker without awareness of gender\n",
    "tahoe2 <- tahoe\n",
    "tahoe2$female <- c(rep(0, nrow(tahoe)))\n",
    "\n",
    "number.withCareTacker.X_A = sum(predict(prune.cv.tree_tahoe,newdata =tahoe)[,2]>0.15)\n",
    "number.withCareTacker.X = sum(predict(prune.cv.tree_tahoe,newdata = tahoe2)[,2]>0.15)\n",
    "\n",
    "p.XA = number.withCareTacker.X_A / nrow(tahoe)\n",
    "p.X = number.withCareTacker.X / nrow(tahoe)\n",
    "print(c(p.XA,p.X))\n",
    "p.XA - p.X"
   ]
  },
  {
   "cell_type": "markdown",
   "id": "4e9efdb9",
   "metadata": {},
   "source": [
    "<b>It seems fair.<b>"
   ]
  },
  {
   "cell_type": "markdown",
   "id": "be2a0cab",
   "metadata": {},
   "source": [
    "### (e)"
   ]
  },
  {
   "cell_type": "markdown",
   "id": "1f963f7b",
   "metadata": {},
   "source": [
    "<b>I think demographic parity is the most important fair measure since we do have gap and it is not fair, while unawareness is the least important since we do not even use `female` in the pruned tree.<b>"
   ]
  },
  {
   "cell_type": "markdown",
   "id": "800b9872",
   "metadata": {},
   "source": [
    "## Problem 2"
   ]
  },
  {
   "cell_type": "markdown",
   "id": "fcb00b89",
   "metadata": {},
   "source": [
    "### (a)"
   ]
  },
  {
   "cell_type": "code",
   "execution_count": 109,
   "id": "650467a0",
   "metadata": {},
   "outputs": [],
   "source": [
    "college <- read.csv(\"CollegeData.csv\")"
   ]
  },
  {
   "cell_type": "code",
   "execution_count": 110,
   "id": "2dd6ba1c",
   "metadata": {},
   "outputs": [
    {
     "data": {
      "text/html": [
       "<table class=\"dataframe\">\n",
       "<caption>A data.frame: 6 × 10</caption>\n",
       "<thead>\n",
       "\t<tr><th></th><th scope=col>INSTNM</th><th scope=col>SAT_AVG</th><th scope=col>UGDS</th><th scope=col>COSTT4_A</th><th scope=col>TUITIONFEE_OUT</th><th scope=col>TUITFTE</th><th scope=col>AVGFACSAL</th><th scope=col>PFTFAC</th><th scope=col>C150_4</th><th scope=col>PFTFTUG1_EF</th></tr>\n",
       "\t<tr><th></th><th scope=col>&lt;chr&gt;</th><th scope=col>&lt;int&gt;</th><th scope=col>&lt;int&gt;</th><th scope=col>&lt;int&gt;</th><th scope=col>&lt;int&gt;</th><th scope=col>&lt;int&gt;</th><th scope=col>&lt;int&gt;</th><th scope=col>&lt;dbl&gt;</th><th scope=col>&lt;dbl&gt;</th><th scope=col>&lt;dbl&gt;</th></tr>\n",
       "</thead>\n",
       "<tbody>\n",
       "\t<tr><th scope=row>1</th><td>California Institute of Technology   </td><td>1534</td><td> 977</td><td>56382</td><td>41538</td><td>15679</td><td>16120</td><td>0.9570</td><td>0.9307</td><td>0.9725</td></tr>\n",
       "\t<tr><th scope=row>2</th><td>University of Chicago                </td><td>1504</td><td>5697</td><td>62425</td><td>47514</td><td>26409</td><td>16589</td><td>0.8076</td><td>0.9268</td><td>0.9834</td></tr>\n",
       "\t<tr><th scope=row>3</th><td>Massachusetts Institute of Technology</td><td>1503</td><td>4510</td><td>57010</td><td>43498</td><td>28012</td><td>15617</td><td>0.9862</td><td>0.9307</td><td>0.9721</td></tr>\n",
       "\t<tr><th scope=row>4</th><td>Harvard University                   </td><td>1501</td><td>7278</td><td>57950</td><td>42292</td><td>27867</td><td>17861</td><td>0.8595</td><td>0.9747</td><td>0.4143</td></tr>\n",
       "\t<tr><th scope=row>5</th><td>Yale University                      </td><td>1497</td><td>5422</td><td>59320</td><td>44000</td><td>14701</td><td>16042</td><td>0.7281</td><td>0.9779</td><td>0.9777</td></tr>\n",
       "\t<tr><th scope=row>6</th><td>Princeton University                 </td><td>1495</td><td>5234</td><td>55430</td><td>40170</td><td>13049</td><td>15711</td><td>0.8485</td><td>0.9694</td><td>1.0000</td></tr>\n",
       "</tbody>\n",
       "</table>\n"
      ],
      "text/latex": [
       "A data.frame: 6 × 10\n",
       "\\begin{tabular}{r|llllllllll}\n",
       "  & INSTNM & SAT\\_AVG & UGDS & COSTT4\\_A & TUITIONFEE\\_OUT & TUITFTE & AVGFACSAL & PFTFAC & C150\\_4 & PFTFTUG1\\_EF\\\\\n",
       "  & <chr> & <int> & <int> & <int> & <int> & <int> & <int> & <dbl> & <dbl> & <dbl>\\\\\n",
       "\\hline\n",
       "\t1 & California Institute of Technology    & 1534 &  977 & 56382 & 41538 & 15679 & 16120 & 0.9570 & 0.9307 & 0.9725\\\\\n",
       "\t2 & University of Chicago                 & 1504 & 5697 & 62425 & 47514 & 26409 & 16589 & 0.8076 & 0.9268 & 0.9834\\\\\n",
       "\t3 & Massachusetts Institute of Technology & 1503 & 4510 & 57010 & 43498 & 28012 & 15617 & 0.9862 & 0.9307 & 0.9721\\\\\n",
       "\t4 & Harvard University                    & 1501 & 7278 & 57950 & 42292 & 27867 & 17861 & 0.8595 & 0.9747 & 0.4143\\\\\n",
       "\t5 & Yale University                       & 1497 & 5422 & 59320 & 44000 & 14701 & 16042 & 0.7281 & 0.9779 & 0.9777\\\\\n",
       "\t6 & Princeton University                  & 1495 & 5234 & 55430 & 40170 & 13049 & 15711 & 0.8485 & 0.9694 & 1.0000\\\\\n",
       "\\end{tabular}\n"
      ],
      "text/markdown": [
       "\n",
       "A data.frame: 6 × 10\n",
       "\n",
       "| <!--/--> | INSTNM &lt;chr&gt; | SAT_AVG &lt;int&gt; | UGDS &lt;int&gt; | COSTT4_A &lt;int&gt; | TUITIONFEE_OUT &lt;int&gt; | TUITFTE &lt;int&gt; | AVGFACSAL &lt;int&gt; | PFTFAC &lt;dbl&gt; | C150_4 &lt;dbl&gt; | PFTFTUG1_EF &lt;dbl&gt; |\n",
       "|---|---|---|---|---|---|---|---|---|---|---|\n",
       "| 1 | California Institute of Technology    | 1534 |  977 | 56382 | 41538 | 15679 | 16120 | 0.9570 | 0.9307 | 0.9725 |\n",
       "| 2 | University of Chicago                 | 1504 | 5697 | 62425 | 47514 | 26409 | 16589 | 0.8076 | 0.9268 | 0.9834 |\n",
       "| 3 | Massachusetts Institute of Technology | 1503 | 4510 | 57010 | 43498 | 28012 | 15617 | 0.9862 | 0.9307 | 0.9721 |\n",
       "| 4 | Harvard University                    | 1501 | 7278 | 57950 | 42292 | 27867 | 17861 | 0.8595 | 0.9747 | 0.4143 |\n",
       "| 5 | Yale University                       | 1497 | 5422 | 59320 | 44000 | 14701 | 16042 | 0.7281 | 0.9779 | 0.9777 |\n",
       "| 6 | Princeton University                  | 1495 | 5234 | 55430 | 40170 | 13049 | 15711 | 0.8485 | 0.9694 | 1.0000 |\n",
       "\n"
      ],
      "text/plain": [
       "  INSTNM                                SAT_AVG UGDS COSTT4_A TUITIONFEE_OUT\n",
       "1 California Institute of Technology    1534     977 56382    41538         \n",
       "2 University of Chicago                 1504    5697 62425    47514         \n",
       "3 Massachusetts Institute of Technology 1503    4510 57010    43498         \n",
       "4 Harvard University                    1501    7278 57950    42292         \n",
       "5 Yale University                       1497    5422 59320    44000         \n",
       "6 Princeton University                  1495    5234 55430    40170         \n",
       "  TUITFTE AVGFACSAL PFTFAC C150_4 PFTFTUG1_EF\n",
       "1 15679   16120     0.9570 0.9307 0.9725     \n",
       "2 26409   16589     0.8076 0.9268 0.9834     \n",
       "3 28012   15617     0.9862 0.9307 0.9721     \n",
       "4 27867   17861     0.8595 0.9747 0.4143     \n",
       "5 14701   16042     0.7281 0.9779 0.9777     \n",
       "6 13049   15711     0.8485 0.9694 1.0000     "
      ]
     },
     "metadata": {},
     "output_type": "display_data"
    }
   ],
   "source": [
    "head(college)"
   ]
  },
  {
   "cell_type": "code",
   "execution_count": 111,
   "id": "34c39a2e",
   "metadata": {},
   "outputs": [],
   "source": [
    "# drop na\n",
    "college <- na.omit(college)"
   ]
  },
  {
   "cell_type": "code",
   "execution_count": 112,
   "id": "5d0e646e",
   "metadata": {},
   "outputs": [
    {
     "name": "stdout",
     "output_type": "stream",
     "text": [
      "'data.frame':\t1136 obs. of  10 variables:\n",
      " $ INSTNM        : chr  \"California Institute of Technology\" \"University of Chicago\" \"Massachusetts Institute of Technology\" \"Harvard University\" ...\n",
      " $ SAT_AVG       : int  1534 1504 1503 1501 1497 1495 1475 1474 1471 1466 ...\n",
      " $ UGDS          : int  977 5697 4510 7278 5422 5234 6794 6851 7970 6980 ...\n",
      " $ COSTT4_A      : int  56382 62425 57010 57950 59320 55430 59890 62594 61540 58408 ...\n",
      " $ TUITIONFEE_OUT: int  41538 47514 43498 42292 44000 40170 42978 44841 49138 43683 ...\n",
      " $ TUITFTE       : int  15679 26409 28012 27867 14701 13049 22796 23619 31924 23849 ...\n",
      " $ AVGFACSAL     : int  16120 16589 15617 17861 16042 15711 12871 13286 15706 19862 ...\n",
      " $ PFTFAC        : num  0.957 0.808 0.986 0.86 0.728 ...\n",
      " $ C150_4        : num  0.931 0.927 0.931 0.975 0.978 ...\n",
      " $ PFTFTUG1_EF   : num  0.973 0.983 0.972 0.414 0.978 ...\n",
      " - attr(*, \"na.action\")= 'omit' Named int [1:47] 22 28 36 145 177 187 236 240 257 259 ...\n",
      "  ..- attr(*, \"names\")= chr [1:47] \"22\" \"28\" \"36\" \"145\" ...\n"
     ]
    }
   ],
   "source": [
    "str(college)"
   ]
  },
  {
   "cell_type": "code",
   "execution_count": 113,
   "id": "3a965e11",
   "metadata": {},
   "outputs": [],
   "source": [
    "# We do not need INSTNM\n",
    "college <- subset(college, select = -`INSTNM`)"
   ]
  },
  {
   "cell_type": "code",
   "execution_count": 114,
   "id": "cd315dfe",
   "metadata": {},
   "outputs": [],
   "source": [
    "college.scale <- scale(college, center = TRUE, scale = TRUE)"
   ]
  },
  {
   "cell_type": "code",
   "execution_count": 117,
   "id": "8c8d3adc",
   "metadata": {},
   "outputs": [],
   "source": [
    "k_range = c (1:50)\n",
    "total_variance = rep(0,50)\n",
    "for (k in 1:50) {\n",
    "    total_variance[k] <- kmeans(college.scale, centers = k, nstart = 10, iter.max = 15)$`tot.withinss`\n",
    "}"
   ]
  },
  {
   "cell_type": "code",
   "execution_count": 118,
   "id": "9fb8ce63",
   "metadata": {},
   "outputs": [
    {
     "data": {
      "image/png": "[encoded data removed]",
      "text/plain": [
       "plot without title"
      ]
     },
     "metadata": {
      "image/png": {
       "height": 420,
       "width": 420
      }
     },
     "output_type": "display_data"
    }
   ],
   "source": [
    "plot(k_range, total_variance, \n",
    "    xlab = \"K values\", ylab = \"total within-cluster variation\")"
   ]
  },
  {
   "cell_type": "markdown",
   "id": "57a47f27",
   "metadata": {},
   "source": [
    "<b>I will choose K to be 8.<b>"
   ]
  },
  {
   "cell_type": "markdown",
   "id": "6527f41d",
   "metadata": {},
   "source": [
    "### (b)"
   ]
  },
  {
   "cell_type": "code",
   "execution_count": 119,
   "id": "46af4bcc",
   "metadata": {
    "scrolled": true
   },
   "outputs": [],
   "source": [
    "college <- read.csv(\"CollegeData.csv\")"
   ]
  },
  {
   "cell_type": "code",
   "execution_count": 120,
   "id": "3d51116c",
   "metadata": {},
   "outputs": [],
   "source": [
    "college <- na.omit(college)"
   ]
  },
  {
   "cell_type": "code",
   "execution_count": 126,
   "id": "234a126e",
   "metadata": {},
   "outputs": [],
   "source": [
    "new_college_100 <- head(college[order(college$`INSTNM`),],100)"
   ]
  },
  {
   "cell_type": "code",
   "execution_count": 127,
   "id": "43efb4a8",
   "metadata": {},
   "outputs": [],
   "source": [
    "# We do not need INSTNM\n",
    "new_college_100 <- subset(new_college_100, select = -`INSTNM`)"
   ]
  },
  {
   "cell_type": "code",
   "execution_count": 128,
   "id": "8adfa616",
   "metadata": {},
   "outputs": [],
   "source": [
    "new_college_100.scale <- scale(new_college_100, center = TRUE, scale = TRUE)"
   ]
  },
  {
   "cell_type": "code",
   "execution_count": 129,
   "id": "b3e6e550",
   "metadata": {},
   "outputs": [],
   "source": [
    "hc.average = hclust(dist(new_college_100.scale), method = \"average\")"
   ]
  },
  {
   "cell_type": "code",
   "execution_count": 133,
   "id": "d36e6e87",
   "metadata": {},
   "outputs": [
    {
     "data": {
      "image/png": "[encoded data removed]",
      "text/plain": [
       "Plot with title \"Cluster Dendrogram\""
      ]
     },
     "metadata": {
      "image/png": {
       "height": 420,
       "width": 420
      }
     },
     "output_type": "display_data"
    }
   ],
   "source": [
    "plot(hc.average)\n",
    "rect.hclust(hc.average, k=4, border = 2:10)"
   ]
  },
  {
   "cell_type": "code",
   "execution_count": 136,
   "id": "8ed2c188",
   "metadata": {},
   "outputs": [
    {
     "data": {
      "text/plain": [
       "sub_grp\n",
       " 1  2  3  4 \n",
       "57 31 10  2 "
      ]
     },
     "metadata": {},
     "output_type": "display_data"
    }
   ],
   "source": [
    "sub_grp <- cutree(hc.average, k=4)\n",
    "table(sub_grp)"
   ]
  },
  {
   "cell_type": "code",
   "execution_count": 137,
   "id": "54cdba14",
   "metadata": {},
   "outputs": [
    {
     "data": {
      "text/html": [
       "<table class=\"dataframe\">\n",
       "<caption>A data.frame: 4 × 10</caption>\n",
       "<thead>\n",
       "\t<tr><th scope=col>cluster</th><th scope=col>SAT_AVG</th><th scope=col>UGDS</th><th scope=col>COSTT4_A</th><th scope=col>TUITIONFEE_OUT</th><th scope=col>TUITFTE</th><th scope=col>AVGFACSAL</th><th scope=col>PFTFAC</th><th scope=col>C150_4</th><th scope=col>PFTFTUG1_EF</th></tr>\n",
       "\t<tr><th scope=col>&lt;int&gt;</th><th scope=col>&lt;dbl&gt;</th><th scope=col>&lt;dbl&gt;</th><th scope=col>&lt;dbl&gt;</th><th scope=col>&lt;dbl&gt;</th><th scope=col>&lt;dbl&gt;</th><th scope=col>&lt;dbl&gt;</th><th scope=col>&lt;dbl&gt;</th><th scope=col>&lt;dbl&gt;</th><th scope=col>&lt;dbl&gt;</th></tr>\n",
       "</thead>\n",
       "<tbody>\n",
       "\t<tr><td>1</td><td>-0.08306239</td><td>-0.4146077</td><td> 0.2707976</td><td> 0.1438011</td><td> 0.1294921</td><td>-0.3339513</td><td>-0.28611972</td><td> 0.0569641</td><td>-0.005129142</td></tr>\n",
       "\t<tr><td>2</td><td>-0.52724194</td><td> 0.3899094</td><td>-1.0317358</td><td>-0.8218523</td><td>-0.8556620</td><td>-0.1712831</td><td> 0.48946200</td><td>-0.7735935</td><td>-0.407261543</td></tr>\n",
       "\t<tr><td>3</td><td> 1.89324817</td><td> 0.1741540</td><td> 1.8830832</td><td> 1.9493824</td><td> 2.0525177</td><td> 2.1897702</td><td> 0.03087882</td><td> 1.9178066</td><td> 1.181724219</td></tr>\n",
       "\t<tr><td>4</td><td> 1.07328730</td><td> 4.9019538</td><td>-1.1412418</td><td>-1.1065335</td><td>-0.6903518</td><td> 1.2236488</td><td> 0.41335689</td><td> 0.7781886</td><td> 0.550113358</td></tr>\n",
       "</tbody>\n",
       "</table>\n"
      ],
      "text/latex": [
       "A data.frame: 4 × 10\n",
       "\\begin{tabular}{llllllllll}\n",
       " cluster & SAT\\_AVG & UGDS & COSTT4\\_A & TUITIONFEE\\_OUT & TUITFTE & AVGFACSAL & PFTFAC & C150\\_4 & PFTFTUG1\\_EF\\\\\n",
       " <int> & <dbl> & <dbl> & <dbl> & <dbl> & <dbl> & <dbl> & <dbl> & <dbl> & <dbl>\\\\\n",
       "\\hline\n",
       "\t 1 & -0.08306239 & -0.4146077 &  0.2707976 &  0.1438011 &  0.1294921 & -0.3339513 & -0.28611972 &  0.0569641 & -0.005129142\\\\\n",
       "\t 2 & -0.52724194 &  0.3899094 & -1.0317358 & -0.8218523 & -0.8556620 & -0.1712831 &  0.48946200 & -0.7735935 & -0.407261543\\\\\n",
       "\t 3 &  1.89324817 &  0.1741540 &  1.8830832 &  1.9493824 &  2.0525177 &  2.1897702 &  0.03087882 &  1.9178066 &  1.181724219\\\\\n",
       "\t 4 &  1.07328730 &  4.9019538 & -1.1412418 & -1.1065335 & -0.6903518 &  1.2236488 &  0.41335689 &  0.7781886 &  0.550113358\\\\\n",
       "\\end{tabular}\n"
      ],
      "text/markdown": [
       "\n",
       "A data.frame: 4 × 10\n",
       "\n",
       "| cluster &lt;int&gt; | SAT_AVG &lt;dbl&gt; | UGDS &lt;dbl&gt; | COSTT4_A &lt;dbl&gt; | TUITIONFEE_OUT &lt;dbl&gt; | TUITFTE &lt;dbl&gt; | AVGFACSAL &lt;dbl&gt; | PFTFAC &lt;dbl&gt; | C150_4 &lt;dbl&gt; | PFTFTUG1_EF &lt;dbl&gt; |\n",
       "|---|---|---|---|---|---|---|---|---|---|\n",
       "| 1 | -0.08306239 | -0.4146077 |  0.2707976 |  0.1438011 |  0.1294921 | -0.3339513 | -0.28611972 |  0.0569641 | -0.005129142 |\n",
       "| 2 | -0.52724194 |  0.3899094 | -1.0317358 | -0.8218523 | -0.8556620 | -0.1712831 |  0.48946200 | -0.7735935 | -0.407261543 |\n",
       "| 3 |  1.89324817 |  0.1741540 |  1.8830832 |  1.9493824 |  2.0525177 |  2.1897702 |  0.03087882 |  1.9178066 |  1.181724219 |\n",
       "| 4 |  1.07328730 |  4.9019538 | -1.1412418 | -1.1065335 | -0.6903518 |  1.2236488 |  0.41335689 |  0.7781886 |  0.550113358 |\n",
       "\n"
      ],
      "text/plain": [
       "  cluster SAT_AVG     UGDS       COSTT4_A   TUITIONFEE_OUT TUITFTE   \n",
       "1 1       -0.08306239 -0.4146077  0.2707976  0.1438011      0.1294921\n",
       "2 2       -0.52724194  0.3899094 -1.0317358 -0.8218523     -0.8556620\n",
       "3 3        1.89324817  0.1741540  1.8830832  1.9493824      2.0525177\n",
       "4 4        1.07328730  4.9019538 -1.1412418 -1.1065335     -0.6903518\n",
       "  AVGFACSAL  PFTFAC      C150_4     PFTFTUG1_EF \n",
       "1 -0.3339513 -0.28611972  0.0569641 -0.005129142\n",
       "2 -0.1712831  0.48946200 -0.7735935 -0.407261543\n",
       "3  2.1897702  0.03087882  1.9178066  1.181724219\n",
       "4  1.2236488  0.41335689  0.7781886  0.550113358"
      ]
     },
     "metadata": {},
     "output_type": "display_data"
    }
   ],
   "source": [
    "centroid = aggregate(new_college_100.scale,list(cluster = sub_grp), mean)\n",
    "centroid"
   ]
  },
  {
   "cell_type": "markdown",
   "id": "1d06e42e",
   "metadata": {},
   "source": [
    "<b>Above are centroids. Each row is a centroid.<b>"
   ]
  },
  {
   "cell_type": "markdown",
   "id": "5d9d939c",
   "metadata": {},
   "source": [
    "### (c)"
   ]
  },
  {
   "cell_type": "markdown",
   "id": "133a51fb",
   "metadata": {},
   "source": [
    "<b>For each number of clusters, We calculate total within sum of square. Then we plot number of clusters vs total within sum of square. After observing the plot, we use elbow method to determine number of clusters. More specifically, we could choose a ratio such as 5 %, whenever the difference between total within sum of square of consecutive k values divided by the difference of total within sum of square between k=2 and k=1 is less the 5 %, we should stop and use the last k.<b>"
   ]
  }
 ],
 "metadata": {
  "kernelspec": {
   "display_name": "R",
   "language": "R",
   "name": "ir"
  },
  "language_info": {
   "codemirror_mode": "r",
   "file_extension": ".r",
   "mimetype": "text/x-r-source",
   "name": "R",
   "pygments_lexer": "r",
   "version": "4.1.2"
  }
 },
 "nbformat": 4,
 "nbformat_minor": 5
}
