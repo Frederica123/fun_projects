{
 "cells": [
  {
   "cell_type": "markdown",
   "metadata": {},
   "source": [
    "<h1>Scraping Fidelity.com</h1>\n",
    "In this assignment, you will scrape data from fidelity.com. The goal of the exercise is to get the latest sector performance data from the US markets, and to get the total market capitalization for each sector. \n",
    "\n",
    "The end result is to write a function: <i>get_us_sector_performance()</i> that will return a list of tuples. Each tuple should correspond to a sector and should contain the following data:\n",
    "<li>the sector name\n",
    "<li>the amount the sector has moved\n",
    "<li>the market capitalization of the sector\n",
    "<li>the market weight of the sector\n",
    "<li>a link to the fidelity page for that sector\n",
    "\n",
    "<p>\n",
    "The data should be sorted by decreasing order of market weight. I.e., the sector with the highest weight should be in the first tuple, etc."
   ]
  },
  {
   "cell_type": "markdown",
   "metadata": {},
   "source": [
    "<h3>Process</h3>\n",
    "<li>Get a list of sectors and the links to the sector detail pages from the url (see function)\n",
    "<li>Loop through the list and call the function <i>get_sector_change_and_market_cap(sector_page_link)</i> for each sector\n",
    "<li>Accumulate the name, the change, the capitalization, the weight and the link for each sector in output_list (see function)\n",
    "<li>Sort the list by market weight"
   ]
  },
  {
   "cell_type": "markdown",
   "metadata": {},
   "source": [
    "<b>Notes:</b>\n",
    "<li>Note that the market weight is a string with a % sign at the back. You will need to get rid of the % and convert the string into a float before you can sort it\n",
    "<li>Your starting data is the url listed below. You need to extract all data, including links to the sector pages, from the page at this url\n",
    "<li>To sort a list of tuples by an arbitrary element, use the example at the bottom of this notebook"
   ]
  },
  {
   "cell_type": "code",
   "execution_count": 1,
   "metadata": {},
   "outputs": [],
   "source": [
    "def get_us_sector_performance():\n",
    "    output_list = list()\n",
    "    \n",
    "    import requests\n",
    "    from bs4 import BeautifulSoup\n",
    "    \n",
    "    url = \"https://eresearch.fidelity.com/eresearch/goto/markets_sectors/landing.jhtml\"\n",
    "    response = requests.get(url)\n",
    "    if not response.status_code == 200:\n",
    "        return None\n",
    "    try:\n",
    "        results_page = BeautifulSoup(response.content,'lxml')\n",
    "        performance_section = results_page.find('div',{'class':\"performance-section\"})\n",
    "        sectors = performance_section.find_all('div',{'class':\"heading\"})\n",
    "        \n",
    "        for sector in sectors:\n",
    "            \n",
    "            name = sector.find('a').get_text()\n",
    "            \n",
    "            sector_page_link = 'https://eresearch.fidelity.com'+ sector.find('a').get('href')\n",
    "            \n",
    "            sector_change,sector_market_cap,sector_market_weight = get_sector_change_and_market_cap(sector_page_link)\n",
    "            output_list.append((name,sector_change,sector_market_cap,sector_market_weight,sector_page_link))\n",
    "            \n",
    "        output_list.sort(key=lambda k: k[-2],reverse=True)\n",
    "    except:\n",
    "        return None\n",
    "    \n",
    "    return output_list\n",
    "    "
   ]
  },
  {
   "cell_type": "code",
   "execution_count": 2,
   "metadata": {},
   "outputs": [],
   "source": [
    "def get_sector_change_and_market_cap(sector_page_link):\n",
    "    \n",
    "    a=[]\n",
    "    import requests\n",
    "    from bs4 import BeautifulSoup\n",
    "    response2 = requests.get(sector_page_link)\n",
    "    if not response2.status_code == 200:\n",
    "        return None\n",
    "    try:\n",
    "        sector_page = BeautifulSoup(response2.content,'lxml')\n",
    "        div1=sector_page.find('div',{'class':'maincontent'})\n",
    "        div2=div1.find('div',{'class':'right-content'})\n",
    "        div3=div2.find('div',{'class':'left-content'})\n",
    "        tbody=div3.find('tbody')\n",
    "        tr=tbody.find('tr')\n",
    "        tds = tr.find_all('td')\n",
    "        for td in tds:\n",
    "            a.append(td.find('span').get_text())\n",
    "#         a = tds[0].find('span').get_text()\n",
    "#         b = tds[1].find('span').get_text()\n",
    "#         c = tds[2].find('span').get_text()\n",
    "        \n",
    "#         sector_change = float(a.strip(\"%\"))\n",
    "#         sector_market_cap = b\n",
    "#         sector_market_weight = float(c.strip(\"%\"))\n",
    "        sector_change = float(a[0].strip(\"%\"))\n",
    "        sector_market_cap = a[1]\n",
    "        sector_market_weight = float(a[2].strip(\"%\"))\n",
    "    except:\n",
    "        return None\n",
    "    return sector_change,sector_market_cap,sector_market_weight"
   ]
  },
  {
   "cell_type": "code",
   "execution_count": 3,
   "metadata": {},
   "outputs": [
    {
     "data": {
      "text/plain": [
       "[('Information Technology',\n",
       "  0.76,\n",
       "  '$15.94T',\n",
       "  27.56,\n",
       "  'https://eresearch.fidelity.com/eresearch/markets_sectors/sectors/sectors_in_market.jhtml?tab=learn&sector=45'),\n",
       " ('Health Care',\n",
       "  0.53,\n",
       "  '$8.15T',\n",
       "  12.96,\n",
       "  'https://eresearch.fidelity.com/eresearch/markets_sectors/sectors/sectors_in_market.jhtml?tab=learn&sector=35'),\n",
       " ('Consumer Discretionary',\n",
       "  1.47,\n",
       "  '$9.10T',\n",
       "  12.3,\n",
       "  'https://eresearch.fidelity.com/eresearch/markets_sectors/sectors/sectors_in_market.jhtml?tab=learn&sector=25'),\n",
       " ('Financials',\n",
       "  1.9,\n",
       "  '$8.97T',\n",
       "  11.6,\n",
       "  'https://eresearch.fidelity.com/eresearch/markets_sectors/sectors/sectors_in_market.jhtml?tab=learn&sector=40'),\n",
       " ('Communication Services',\n",
       "  -0.09,\n",
       "  '$6.73T',\n",
       "  11.25,\n",
       "  'https://eresearch.fidelity.com/eresearch/markets_sectors/sectors/sectors_in_market.jhtml?tab=learn&sector=50'),\n",
       " ('Industrials',\n",
       "  1.29,\n",
       "  '$5.89T',\n",
       "  8.14,\n",
       "  'https://eresearch.fidelity.com/eresearch/markets_sectors/sectors/sectors_in_market.jhtml?tab=learn&sector=20'),\n",
       " ('Consumer Staples',\n",
       "  -0.34,\n",
       "  '$4.52T',\n",
       "  5.75,\n",
       "  'https://eresearch.fidelity.com/eresearch/markets_sectors/sectors/sectors_in_market.jhtml?tab=learn&sector=30'),\n",
       " ('Energy',\n",
       "  0.92,\n",
       "  '$2.99T',\n",
       "  2.95,\n",
       "  'https://eresearch.fidelity.com/eresearch/markets_sectors/sectors/sectors_in_market.jhtml?tab=learn&sector=10'),\n",
       " ('Real Estate',\n",
       "  -0.2,\n",
       "  '$1.73T',\n",
       "  2.54,\n",
       "  'https://eresearch.fidelity.com/eresearch/markets_sectors/sectors/sectors_in_market.jhtml?tab=learn&sector=60'),\n",
       " ('Materials',\n",
       "  0.62,\n",
       "  '$2.64T',\n",
       "  2.49,\n",
       "  'https://eresearch.fidelity.com/eresearch/markets_sectors/sectors/sectors_in_market.jhtml?tab=learn&sector=15'),\n",
       " ('Utilities',\n",
       "  -0.23,\n",
       "  '$1.61T',\n",
       "  2.44,\n",
       "  'https://eresearch.fidelity.com/eresearch/markets_sectors/sectors/sectors_in_market.jhtml?tab=learn&sector=55')]"
      ]
     },
     "execution_count": 3,
     "metadata": {},
     "output_type": "execute_result"
    }
   ],
   "source": [
    "get_us_sector_performance()"
   ]
  },
  {
   "cell_type": "code",
   "execution_count": 2,
   "metadata": {},
   "outputs": [
    {
     "data": {
      "text/plain": [
       "(0.62, '$8.78T', 12.32)"
      ]
     },
     "execution_count": 2,
     "metadata": {},
     "output_type": "execute_result"
    }
   ],
   "source": [
    "#Test get_sector_change_and_market_cap()\n",
    "link = \"https://eresearch.fidelity.com/eresearch/markets_sectors/sectors/sectors_in_market.jhtml?tab=learn&sector=25\"\n",
    "get_sector_change_and_market_cap(link)\n",
    "#Should return (-0.40, $3.58T, 6.80)\n",
    "#Note that neither the -0.40, nor the 6.80, end with a %sign"
   ]
  },
  {
   "cell_type": "code",
   "execution_count": 153,
   "metadata": {},
   "outputs": [
    {
     "data": {
      "text/plain": [
       "\"\\n[('Telecommunication Services',\\n  0.21,\\n  '$1.74T',\\n  2.0,\\n  'https://eresearch.fidelity.com/eresearch/markets_sectors/sectors/sectors_in_market.jhtml?tab=learn&sector=50'),\\n ('Materials',\\n  0.22,\\n  '$1.95T',\\n  2.49,\\n  'https://eresearch.fidelity.com/eresearch/markets_sectors/sectors/sectors_in_market.jhtml?tab=learn&sector=15'),\\n ('Real Estate',\\n  -0.45,\\n  '$1.22T',\\n  2.7,\\n  'https://eresearch.fidelity.com/eresearch/markets_sectors/sectors/sectors_in_market.jhtml?tab=learn&sector=60'),\\n ('Utilities',\\n  -0.33,\\n  '$1.25T',\\n  2.86,\\n  'https://eresearch.fidelity.com/eresearch/markets_sectors/sectors/sectors_in_market.jhtml?tab=learn&sector=55'),\\n ('Energy',\\n  0.76,\\n  '$3.90T',\\n  5.83,\\n  'https://eresearch.fidelity.com/eresearch/markets_sectors/sectors/sectors_in_market.jhtml?tab=learn&sector=10'),\\n ('Consumer Staples',\\n  -0.32,\\n  '$3.58T',\\n  6.8,\\n  'https://eresearch.fidelity.com/eresearch/markets_sectors/sectors/sectors_in_market.jhtml?tab=learn&sector=30'),\\n ('Industrials',\\n  0.72,\\n  '$4.31T',\\n  9.83,\\n  'https://eresearch.fidelity.com/eresearch/markets_sectors/sectors/sectors_in_market.jhtml?tab=learn&sector=20'),\\n ('Consumer Discretionary',\\n  1.03,\\n  '$5.76T',\\n  12.9,\\n  'https://eresearch.fidelity.com/eresearch/markets_sectors/sectors/sectors_in_market.jhtml?tab=learn&sector=25'),\\n ('Financials',\\n  0.39,\\n  '$7.45T',\\n  13.71,\\n  'https://eresearch.fidelity.com/eresearch/markets_sectors/sectors/sectors_in_market.jhtml?tab=learn&sector=40'),\\n ('Health Care',\\n  0.76,\\n  '$5.70T',\\n  14.71,\\n  'https://eresearch.fidelity.com/eresearch/markets_sectors/sectors/sectors_in_market.jhtml?tab=learn&sector=35'),\\n ('Information Technology',\\n  0.81,\\n  '$9.84T',\\n  26.17,\\n  'https://eresearch.fidelity.com/eresearch/markets_sectors/sectors/sectors_in_market.jhtml?tab=learn&sector=45')]\\n  \\n\""
      ]
     },
     "execution_count": 153,
     "metadata": {},
     "output_type": "execute_result"
    }
   ],
   "source": [
    "#Test get_us_sector_performance()\n",
    "get_us_sector_performance()\n",
    "#Should return (example: obviously the results will vary over time!)\n",
    "\"\"\"\n",
    "[('Telecommunication Services',\n",
    "  0.21,\n",
    "  '$1.74T',\n",
    "  2.0,\n",
    "  'https://eresearch.fidelity.com/eresearch/markets_sectors/sectors/sectors_in_market.jhtml?tab=learn&sector=50'),\n",
    " ('Materials',\n",
    "  0.22,\n",
    "  '$1.95T',\n",
    "  2.49,\n",
    "  'https://eresearch.fidelity.com/eresearch/markets_sectors/sectors/sectors_in_market.jhtml?tab=learn&sector=15'),\n",
    " ('Real Estate',\n",
    "  -0.45,\n",
    "  '$1.22T',\n",
    "  2.7,\n",
    "  'https://eresearch.fidelity.com/eresearch/markets_sectors/sectors/sectors_in_market.jhtml?tab=learn&sector=60'),\n",
    " ('Utilities',\n",
    "  -0.33,\n",
    "  '$1.25T',\n",
    "  2.86,\n",
    "  'https://eresearch.fidelity.com/eresearch/markets_sectors/sectors/sectors_in_market.jhtml?tab=learn&sector=55'),\n",
    " ('Energy',\n",
    "  0.76,\n",
    "  '$3.90T',\n",
    "  5.83,\n",
    "  'https://eresearch.fidelity.com/eresearch/markets_sectors/sectors/sectors_in_market.jhtml?tab=learn&sector=10'),\n",
    " ('Consumer Staples',\n",
    "  -0.32,\n",
    "  '$3.58T',\n",
    "  6.8,\n",
    "  'https://eresearch.fidelity.com/eresearch/markets_sectors/sectors/sectors_in_market.jhtml?tab=learn&sector=30'),\n",
    " ('Industrials',\n",
    "  0.72,\n",
    "  '$4.31T',\n",
    "  9.83,\n",
    "  'https://eresearch.fidelity.com/eresearch/markets_sectors/sectors/sectors_in_market.jhtml?tab=learn&sector=20'),\n",
    " ('Consumer Discretionary',\n",
    "  1.03,\n",
    "  '$5.76T',\n",
    "  12.9,\n",
    "  'https://eresearch.fidelity.com/eresearch/markets_sectors/sectors/sectors_in_market.jhtml?tab=learn&sector=25'),\n",
    " ('Financials',\n",
    "  0.39,\n",
    "  '$7.45T',\n",
    "  13.71,\n",
    "  'https://eresearch.fidelity.com/eresearch/markets_sectors/sectors/sectors_in_market.jhtml?tab=learn&sector=40'),\n",
    " ('Health Care',\n",
    "  0.76,\n",
    "  '$5.70T',\n",
    "  14.71,\n",
    "  'https://eresearch.fidelity.com/eresearch/markets_sectors/sectors/sectors_in_market.jhtml?tab=learn&sector=35'),\n",
    " ('Information Technology',\n",
    "  0.81,\n",
    "  '$9.84T',\n",
    "  26.17,\n",
    "  'https://eresearch.fidelity.com/eresearch/markets_sectors/sectors/sectors_in_market.jhtml?tab=learn&sector=45')]\n",
    "  \n",
    "\"\"\""
   ]
  },
  {
   "cell_type": "code",
   "execution_count": 154,
   "metadata": {},
   "outputs": [],
   "source": [
    "get_us_sector_performance()"
   ]
  },
  {
   "cell_type": "markdown",
   "metadata": {},
   "source": [
    "<h3>Sorting</h3>"
   ]
  },
  {
   "cell_type": "code",
   "execution_count": 7,
   "metadata": {},
   "outputs": [
    {
     "data": {
      "text/plain": [
       "[('a', 23.2, 'b'), ('c', 17.4, 'f'), ('d', 29.2, 'z'), ('e', 1.74, 'bb')]"
      ]
     },
     "execution_count": 7,
     "metadata": {},
     "output_type": "execute_result"
    }
   ],
   "source": [
    "x = [('a',23.2,'b'),('c',17.4,'f'),('d',29.2,'z'),('e',1.74,'bb')]\n",
    "x.sort() #Sorts by the first element of the tuple\n",
    "x"
   ]
  },
  {
   "cell_type": "code",
   "execution_count": 25,
   "metadata": {},
   "outputs": [
    {
     "data": {
      "text/plain": [
       "[('d', 29.2, 'z'), ('a', 23.2, 'b'), ('c', 17.4, 'f'), ('e', 1.74, 'bb')]"
      ]
     },
     "execution_count": 25,
     "metadata": {},
     "output_type": "execute_result"
    }
   ],
   "source": [
    "x = [('a',23.2,'b'),('c',17.4,'f'),('d',29.2,'z'),('e',1.74,'bb')]\n",
    "x.sort(key=lambda k: k[1],reverse=True) #Sorts by the element at position 1\n",
    "x"
   ]
  },
  {
   "cell_type": "code",
   "execution_count": 41,
   "metadata": {},
   "outputs": [],
   "source": []
  },
  {
   "cell_type": "code",
   "execution_count": null,
   "metadata": {},
   "outputs": [],
   "source": []
  },
  {
   "cell_type": "code",
   "execution_count": null,
   "metadata": {},
   "outputs": [],
   "source": []
  },
  {
   "cell_type": "code",
   "execution_count": null,
   "metadata": {},
   "outputs": [],
   "source": []
  },
  {
   "cell_type": "code",
   "execution_count": null,
   "metadata": {},
   "outputs": [],
   "source": []
  }
 ],
 "metadata": {
  "kernelspec": {
   "display_name": "Python 3",
   "language": "python",
   "name": "python3"
  },
  "language_info": {
   "codemirror_mode": {
    "name": "ipython",
    "version": 3
   },
   "file_extension": ".py",
   "mimetype": "text/x-python",
   "name": "python",
   "nbconvert_exporter": "python",
   "pygments_lexer": "ipython3",
   "version": "3.8.8"
  }
 },
 "nbformat": 4,
 "nbformat_minor": 2
}
