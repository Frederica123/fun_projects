{
 "cells": [
  {
   "cell_type": "markdown",
   "id": "7d2b3546-c5ce-4525-b206-e3b570fb435c",
   "metadata": {},
   "source": [
    "# 4650 Assignment 1\n",
    "## Team 27\n",
    "## Yinzheng Tong(yt2742), Yufei Jin(yj2691)"
   ]
  },
  {
   "cell_type": "markdown",
   "id": "e1d4a9a9-48ca-4750-975a-ba337983a62d",
   "metadata": {},
   "source": [
    "## Q1"
   ]
  },
  {
   "cell_type": "markdown",
   "id": "ecabe4d5-8073-4277-96a5-75e8557e6499",
   "metadata": {},
   "source": [
    "### (a)"
   ]
  },
  {
   "cell_type": "code",
   "execution_count": 1,
   "id": "29f0a90f-2efd-4999-abff-5980ecc9a9e8",
   "metadata": {},
   "outputs": [
    {
     "data": {
      "text/plain": [
       "\n",
       "Call:\n",
       "lm(formula = Sales ~ Weekday + Rain + Temperature)\n",
       "\n",
       "Residuals:\n",
       "    Min      1Q  Median      3Q     Max \n",
       "-465.62 -148.27   49.21  161.12  290.53 \n",
       "\n",
       "Coefficients:\n",
       "            Estimate Std. Error t value Pr(>|t|)    \n",
       "(Intercept) 534.6382    33.9824  15.733  < 2e-16 ***\n",
       "Weekday      39.7362    13.9743   2.844  0.00455 ** \n",
       "Rain        -27.8047    16.0938  -1.728  0.08436 .  \n",
       "Temperature   0.1196     0.4225   0.283  0.77712    \n",
       "---\n",
       "Signif. codes:  0 ‘***’ 0.001 ‘**’ 0.01 ‘*’ 0.05 ‘.’ 0.1 ‘ ’ 1\n",
       "\n",
       "Residual standard error: 197.5 on 996 degrees of freedom\n",
       "Multiple R-squared:  0.01082,\tAdjusted R-squared:  0.007843 \n",
       "F-statistic: 3.632 on 3 and 996 DF,  p-value: 0.0126\n"
      ]
     },
     "metadata": {},
     "output_type": "display_data"
    }
   ],
   "source": [
    "nsp = read.csv(\"NewspaperSales.csv\")\n",
    "attach(nsp)\n",
    "my_lm_1 = lm(Sales~Weekday+Rain+Temperature)\n",
    "summary(my_lm_1)"
   ]
  },
  {
   "cell_type": "code",
   "execution_count": 2,
   "id": "ab51926d-e026-4591-a3c1-78c6abefc538",
   "metadata": {},
   "outputs": [
    {
     "data": {
      "text/html": [
       "<table class=\"dataframe\">\n",
       "<caption>A matrix: 2 × 3 of type dbl</caption>\n",
       "<thead>\n",
       "\t<tr><th></th><th scope=col>fit</th><th scope=col>lwr</th><th scope=col>upr</th></tr>\n",
       "</thead>\n",
       "<tbody>\n",
       "\t<tr><th scope=row>1</th><td>540.6193</td><td>78.92387</td><td>1002.3148</td></tr>\n",
       "\t<tr><th scope=row>2</th><td>512.8146</td><td>50.05954</td><td> 975.5697</td></tr>\n",
       "</tbody>\n",
       "</table>\n"
      ],
      "text/latex": [
       "A matrix: 2 × 3 of type dbl\n",
       "\\begin{tabular}{r|lll}\n",
       "  & fit & lwr & upr\\\\\n",
       "\\hline\n",
       "\t1 & 540.6193 & 78.92387 & 1002.3148\\\\\n",
       "\t2 & 512.8146 & 50.05954 &  975.5697\\\\\n",
       "\\end{tabular}\n"
      ],
      "text/markdown": [
       "\n",
       "A matrix: 2 × 3 of type dbl\n",
       "\n",
       "| <!--/--> | fit | lwr | upr |\n",
       "|---|---|---|---|\n",
       "| 1 | 540.6193 | 78.92387 | 1002.3148 |\n",
       "| 2 | 512.8146 | 50.05954 |  975.5697 |\n",
       "\n"
      ],
      "text/plain": [
       "  fit      lwr      upr      \n",
       "1 540.6193 78.92387 1002.3148\n",
       "2 512.8146 50.05954  975.5697"
      ]
     },
     "metadata": {},
     "output_type": "display_data"
    },
    {
     "data": {
      "text/html": [
       "<table class=\"dataframe\">\n",
       "<caption>A matrix: 2 × 3 of type dbl</caption>\n",
       "<thead>\n",
       "\t<tr><th></th><th scope=col>fit</th><th scope=col>lwr</th><th scope=col>upr</th></tr>\n",
       "</thead>\n",
       "<tbody>\n",
       "\t<tr><th scope=row>1</th><td>540.6193</td><td>78.92387</td><td>1002.315</td></tr>\n",
       "\t<tr><th scope=row>2</th><td>545.4042</td><td>84.13507</td><td>1006.673</td></tr>\n",
       "</tbody>\n",
       "</table>\n"
      ],
      "text/latex": [
       "A matrix: 2 × 3 of type dbl\n",
       "\\begin{tabular}{r|lll}\n",
       "  & fit & lwr & upr\\\\\n",
       "\\hline\n",
       "\t1 & 540.6193 & 78.92387 & 1002.315\\\\\n",
       "\t2 & 545.4042 & 84.13507 & 1006.673\\\\\n",
       "\\end{tabular}\n"
      ],
      "text/markdown": [
       "\n",
       "A matrix: 2 × 3 of type dbl\n",
       "\n",
       "| <!--/--> | fit | lwr | upr |\n",
       "|---|---|---|---|\n",
       "| 1 | 540.6193 | 78.92387 | 1002.315 |\n",
       "| 2 | 545.4042 | 84.13507 | 1006.673 |\n",
       "\n"
      ],
      "text/plain": [
       "  fit      lwr      upr     \n",
       "1 540.6193 78.92387 1002.315\n",
       "2 545.4042 84.13507 1006.673"
      ]
     },
     "metadata": {},
     "output_type": "display_data"
    },
    {
     "data": {
      "text/html": [
       "<table class=\"dataframe\">\n",
       "<caption>A matrix: 2 × 3 of type dbl</caption>\n",
       "<thead>\n",
       "\t<tr><th></th><th scope=col>fit</th><th scope=col>lwr</th><th scope=col>upr</th></tr>\n",
       "</thead>\n",
       "<tbody>\n",
       "\t<tr><th scope=row>1</th><td>540.6193</td><td> 78.92387</td><td>1002.315</td></tr>\n",
       "\t<tr><th scope=row>2</th><td>580.3555</td><td>119.16919</td><td>1041.542</td></tr>\n",
       "</tbody>\n",
       "</table>\n"
      ],
      "text/latex": [
       "A matrix: 2 × 3 of type dbl\n",
       "\\begin{tabular}{r|lll}\n",
       "  & fit & lwr & upr\\\\\n",
       "\\hline\n",
       "\t1 & 540.6193 &  78.92387 & 1002.315\\\\\n",
       "\t2 & 580.3555 & 119.16919 & 1041.542\\\\\n",
       "\\end{tabular}\n"
      ],
      "text/markdown": [
       "\n",
       "A matrix: 2 × 3 of type dbl\n",
       "\n",
       "| <!--/--> | fit | lwr | upr |\n",
       "|---|---|---|---|\n",
       "| 1 | 540.6193 |  78.92387 | 1002.315 |\n",
       "| 2 | 580.3555 | 119.16919 | 1041.542 |\n",
       "\n"
      ],
      "text/plain": [
       "  fit      lwr       upr     \n",
       "1 540.6193  78.92387 1002.315\n",
       "2 580.3555 119.16919 1041.542"
      ]
     },
     "metadata": {},
     "output_type": "display_data"
    }
   ],
   "source": [
    "predict(my_lm_1,data.frame(Weekday = c(0,0),Rain = c(0,1),Temperature = c(50,50)),\n",
    "        interval = \"prediction\",level = .98)\n",
    "predict(my_lm_1,data.frame(Weekday = c(0,0),Rain = c(0,0),Temperature = c(50,90)),\n",
    "        interval = \"prediction\",level = .98)\n",
    "predict(my_lm_1,data.frame(Weekday = c(0,1),Rain = c(0,0),Temperature = c(50,50)),\n",
    "        interval = \"prediction\",level = .98)"
   ]
  },
  {
   "cell_type": "markdown",
   "id": "f8ae9bd2-e352-49be-b3e3-4f588e10881d",
   "metadata": {},
   "source": [
    "### Answer: \n",
    "#### According to the regression result, only Weekday and Rain have significant influence on Sales since their p values are small and the p values for Temperature and Rain are relatively high which indicate that Sales do not have linear relationship with temperature and rain. According to the prediction changes, it, to certain degree, makes some sense to me because the result shows that with rain and weekend, comes with lower sales. Since the Temperature variable is not statistically significant, we don't need to consider its prediction. However,  Multiple R-squared, Adjusted R-squared are small and p value for F-statistic is relatively large which means it is not a good model and makes little sense in Sales prediction.\n"
   ]
  },
  {
   "cell_type": "markdown",
   "id": "505eef56-85e2-424a-be04-8bfb49479154",
   "metadata": {},
   "source": [
    "### (b)"
   ]
  },
  {
   "cell_type": "code",
   "execution_count": 3,
   "id": "3c203d93-d65b-49ad-ae16-bac3cad87553",
   "metadata": {},
   "outputs": [
    {
     "data": {
      "image/png": "[encoded data removed]",
      "text/plain": [
       "plot without title"
      ]
     },
     "metadata": {
      "image/png": {
       "height": 420,
       "width": 420
      }
     },
     "output_type": "display_data"
    }
   ],
   "source": [
    "Temp2 = Temperature**2\n",
    "nsp['Temp2'] = Temp2\n",
    "plot(Temperature, Sales)"
   ]
  },
  {
   "cell_type": "markdown",
   "id": "44809e16-c132-4d67-b83b-bf7661418969",
   "metadata": {},
   "source": [
    "### Answer:\n",
    "#### According to the graph we can see that the Sales goes up in the beginning when the Temperature goes up. And the Sales goes down after the peak around 70 to 80. I'd like to add the square of temperature as a new variable."
   ]
  },
  {
   "cell_type": "markdown",
   "id": "8c08599f-6b0e-4ad1-936c-a58cc728285a",
   "metadata": {},
   "source": [
    "### (c)"
   ]
  },
  {
   "cell_type": "code",
   "execution_count": 4,
   "id": "779787ab-581e-487e-a510-c659367f9c8f",
   "metadata": {},
   "outputs": [
    {
     "data": {
      "text/plain": [
       "\n",
       "Call:\n",
       "lm(formula = Sales ~ ., data = nsp)\n",
       "\n",
       "Residuals:\n",
       "    Min      1Q  Median      3Q     Max \n",
       "-72.504 -31.285  -1.178  33.503  74.832 \n",
       "\n",
       "Coefficients:\n",
       "              Estimate Std. Error t value Pr(>|t|)    \n",
       "(Intercept) -4.884e+03  3.421e+01 -142.78   <2e-16 ***\n",
       "Weekday      5.057e+01  2.683e+00   18.85   <2e-16 ***\n",
       "Rain        -5.849e+01  3.095e+00  -18.90   <2e-16 ***\n",
       "Temperature  1.507e+02  9.364e-01  160.89   <2e-16 ***\n",
       "Temp2       -1.005e+00  6.229e-03 -161.37   <2e-16 ***\n",
       "---\n",
       "Signif. codes:  0 ‘***’ 0.001 ‘**’ 0.01 ‘*’ 0.05 ‘.’ 0.1 ‘ ’ 1\n",
       "\n",
       "Residual standard error: 37.91 on 995 degrees of freedom\n",
       "Multiple R-squared:  0.9636,\tAdjusted R-squared:  0.9634 \n",
       "F-statistic:  6584 on 4 and 995 DF,  p-value: < 2.2e-16\n"
      ]
     },
     "metadata": {},
     "output_type": "display_data"
    }
   ],
   "source": [
    "my_lm_2 = lm(Sales~.,data = nsp)\n",
    "summary(my_lm_2)"
   ]
  },
  {
   "cell_type": "markdown",
   "id": "40c71840-ab1b-4563-acdb-2111e73ce5bf",
   "metadata": {},
   "source": [
    "### Answer:\n",
    "#### Sales = -4884 + 50.57*Weekday - 58.49*Rain + 150.7*Temperature - 1.005*Temperature2\n",
    "#### The new model consists of four predictors. It make sense to me because in this model, the square of Temperature has a significant correlation with Sales, which fits with the plot in previous question and p value for each independent variable is small which suggests plausible linear relationships. \n",
    "#### The results are much better since multiple R-squared and Adjusted R-squared are much larger and p value of F-statistic is much smaller compared with the initial model."
   ]
  },
  {
   "cell_type": "markdown",
   "id": "beb3258e-8d63-4a6b-8e7f-db5413da9039",
   "metadata": {
    "tags": []
   },
   "source": [
    "### (d)"
   ]
  },
  {
   "cell_type": "code",
   "execution_count": 6,
   "id": "7b59872a-ab85-426d-ad8d-4e9967d3d986",
   "metadata": {},
   "outputs": [
    {
     "data": {
      "text/plain": [
       "\n",
       "Call:\n",
       "lm(formula = Sales ~ . + I(Weekday * Rain * Temperature), data = nsp)\n",
       "\n",
       "Residuals:\n",
       "    Min      1Q  Median      3Q     Max \n",
       "-78.373 -31.723  -0.584  33.159  74.122 \n",
       "\n",
       "Coefficients:\n",
       "                                  Estimate Std. Error  t value Pr(>|t|)    \n",
       "(Intercept)                     -4.887e+03  3.425e+01 -142.682   <2e-16 ***\n",
       "Weekday                          5.220e+01  2.922e+00   17.862   <2e-16 ***\n",
       "Rain                            -5.164e+01  5.777e+00   -8.938   <2e-16 ***\n",
       "Temperature                      1.507e+02  9.362e-01  160.956   <2e-16 ***\n",
       "Temp2                           -1.005e+00  6.226e-03 -161.451   <2e-16 ***\n",
       "I(Weekday * Rain * Temperature) -1.222e-01  8.696e-02   -1.405     0.16    \n",
       "---\n",
       "Signif. codes:  0 ‘***’ 0.001 ‘**’ 0.01 ‘*’ 0.05 ‘.’ 0.1 ‘ ’ 1\n",
       "\n",
       "Residual standard error: 37.89 on 994 degrees of freedom\n",
       "Multiple R-squared:  0.9637,\tAdjusted R-squared:  0.9635 \n",
       "F-statistic:  5273 on 5 and 994 DF,  p-value: < 2.2e-16\n"
      ]
     },
     "metadata": {},
     "output_type": "display_data"
    }
   ],
   "source": [
    "my_lm_3 = lm(Sales~.+I(Weekday*Rain*Temperature),data = nsp)\n",
    "summary(my_lm_3)"
   ]
  },
  {
   "cell_type": "markdown",
   "id": "d91b67b1-c8dd-48e0-adc1-fafcd061f00c",
   "metadata": {},
   "source": [
    "### Answer:\n",
    "#### Sales = -4887 + 52.2*Weekday - 51.64*Rain + 150.7*Temperature - 1.005*Temperature2 - 0.1222*interaction\n",
    "#### The new model consists of five predictors. It makes sense to me as features with small p value are very likely linearly correlated with Sales. \n",
    "#### Although the result doesn't change a lot compared with the second model and the new interaction term is not significant, the introduction of interaction term improves the statistical index such as R-squared, adjusted R-squared. So the results are better compared with other two models."
   ]
  },
  {
   "cell_type": "markdown",
   "id": "65623a96-a20a-47e0-a9f0-a6ab71312322",
   "metadata": {
    "tags": []
   },
   "source": [
    "### (e)"
   ]
  },
  {
   "cell_type": "markdown",
   "id": "26fc6d84-e081-4b53-b2e2-b719e0fe47c8",
   "metadata": {},
   "source": [
    "### Answer\n",
    "#### I would like to choose the third one. Because the first model doesn't depict the quadratic relationship between Temperature and Sales. And the second model has poorer performance in statistical test."
   ]
  },
  {
   "cell_type": "markdown",
   "id": "7b95262d-0e9b-46f4-a35e-b8911ffd2282",
   "metadata": {},
   "source": [
    "### (f)"
   ]
  },
  {
   "cell_type": "code",
   "execution_count": 7,
   "id": "ba7cfa86-7f0b-4c4e-b139-a0a6dc6f9e57",
   "metadata": {},
   "outputs": [
    {
     "data": {
      "text/html": [
       "<table class=\"dataframe\">\n",
       "<caption>A matrix: 6 × 2 of type dbl</caption>\n",
       "<thead>\n",
       "\t<tr><th></th><th scope=col>5 %</th><th scope=col>95 %</th></tr>\n",
       "</thead>\n",
       "<tbody>\n",
       "\t<tr><th scope=row>(Intercept)</th><td>-4943.1252399</td><td>-4.830350e+03</td></tr>\n",
       "\t<tr><th scope=row>Weekday</th><td>   47.3851680</td><td> 5.700724e+01</td></tr>\n",
       "\t<tr><th scope=row>Rain</th><td>  -61.1486101</td><td>-4.212546e+01</td></tr>\n",
       "\t<tr><th scope=row>Temperature</th><td>  149.1421362</td><td> 1.522248e+02</td></tr>\n",
       "\t<tr><th scope=row>Temp2</th><td>   -1.0154671</td><td>-9.949658e-01</td></tr>\n",
       "\t<tr><th scope=row>I(Weekday * Rain * Temperature)</th><td>   -0.2653571</td><td> 2.099112e-02</td></tr>\n",
       "</tbody>\n",
       "</table>\n"
      ],
      "text/latex": [
       "A matrix: 6 × 2 of type dbl\n",
       "\\begin{tabular}{r|ll}\n",
       "  & 5 \\% & 95 \\%\\\\\n",
       "\\hline\n",
       "\t(Intercept) & -4943.1252399 & -4.830350e+03\\\\\n",
       "\tWeekday &    47.3851680 &  5.700724e+01\\\\\n",
       "\tRain &   -61.1486101 & -4.212546e+01\\\\\n",
       "\tTemperature &   149.1421362 &  1.522248e+02\\\\\n",
       "\tTemp2 &    -1.0154671 & -9.949658e-01\\\\\n",
       "\tI(Weekday * Rain * Temperature) &    -0.2653571 &  2.099112e-02\\\\\n",
       "\\end{tabular}\n"
      ],
      "text/markdown": [
       "\n",
       "A matrix: 6 × 2 of type dbl\n",
       "\n",
       "| <!--/--> | 5 % | 95 % |\n",
       "|---|---|---|\n",
       "| (Intercept) | -4943.1252399 | -4.830350e+03 |\n",
       "| Weekday |    47.3851680 |  5.700724e+01 |\n",
       "| Rain |   -61.1486101 | -4.212546e+01 |\n",
       "| Temperature |   149.1421362 |  1.522248e+02 |\n",
       "| Temp2 |    -1.0154671 | -9.949658e-01 |\n",
       "| I(Weekday * Rain * Temperature) |    -0.2653571 |  2.099112e-02 |\n",
       "\n"
      ],
      "text/plain": [
       "                                5 %           95 %         \n",
       "(Intercept)                     -4943.1252399 -4.830350e+03\n",
       "Weekday                            47.3851680  5.700724e+01\n",
       "Rain                              -61.1486101 -4.212546e+01\n",
       "Temperature                       149.1421362  1.522248e+02\n",
       "Temp2                              -1.0154671 -9.949658e-01\n",
       "I(Weekday * Rain * Temperature)    -0.2653571  2.099112e-02"
      ]
     },
     "metadata": {},
     "output_type": "display_data"
    }
   ],
   "source": [
    "confint(my_lm_3, level = .9)"
   ]
  },
  {
   "cell_type": "markdown",
   "id": "091ebc85-4615-487c-9cc8-e61889e33cb8",
   "metadata": {},
   "source": [
    "### Answer:\n",
    "#### We are 90% confident that the population mean (which is the population mean of the coefficient vector in this case) falls into the interval we calculated. In other words, a 90% confidence interval for our estimate (which is the population mean of the coefficient vector in this case) means that if the CI procedure is repeated many times, the true value is within that interval 90% of the time.\n",
    "#### The positive coefficient of Weekday means that the Sales would raise by 47.39 to 57.01 during weekdays. The coefficient of Rain means that the Sales would very much likely to drop by 42.13 to 61.15. \n"
   ]
  },
  {
   "cell_type": "markdown",
   "id": "dd1dca05-83e2-4843-ab38-907820c78832",
   "metadata": {},
   "source": [
    "### (g)"
   ]
  },
  {
   "cell_type": "code",
   "execution_count": 11,
   "id": "087eea50-a44e-432e-b7d6-e96428bd1bd5",
   "metadata": {},
   "outputs": [
    {
     "data": {
      "text/html": [
       "<table class=\"dataframe\">\n",
       "<caption>A matrix: 1 × 3 of type dbl</caption>\n",
       "<thead>\n",
       "\t<tr><th></th><th scope=col>fit</th><th scope=col>lwr</th><th scope=col>upr</th></tr>\n",
       "</thead>\n",
       "<tbody>\n",
       "\t<tr><th scope=row>1</th><td>671.7596</td><td>582.5689</td><td>760.9503</td></tr>\n",
       "</tbody>\n",
       "</table>\n"
      ],
      "text/latex": [
       "A matrix: 1 × 3 of type dbl\n",
       "\\begin{tabular}{r|lll}\n",
       "  & fit & lwr & upr\\\\\n",
       "\\hline\n",
       "\t1 & 671.7596 & 582.5689 & 760.9503\\\\\n",
       "\\end{tabular}\n"
      ],
      "text/markdown": [
       "\n",
       "A matrix: 1 × 3 of type dbl\n",
       "\n",
       "| <!--/--> | fit | lwr | upr |\n",
       "|---|---|---|---|\n",
       "| 1 | 671.7596 | 582.5689 | 760.9503 |\n",
       "\n"
      ],
      "text/plain": [
       "  fit      lwr      upr     \n",
       "1 671.7596 582.5689 760.9503"
      ]
     },
     "metadata": {},
     "output_type": "display_data"
    }
   ],
   "source": [
    "predict(my_lm_3,data.frame(Weekday = 0,Rain = 1,Temperature = 81,Temp2=81*81),\n",
    "        interval = \"prediction\",level = .98)"
   ]
  },
  {
   "cell_type": "markdown",
   "id": "a15833db-7038-45c4-9f87-9f2e714b10cc",
   "metadata": {},
   "source": [
    "### Answer:\n",
    "#### The result means that on a rainy weekend 81 degree F day, we are 98% confident that the sales will be between 582.5689 and 760.9503.\n",
    "#### ### In other words, the 98% prediction interval for sales means if the PI procedure is repeated many times, the sales for a rainy weekend 81 degree F day is within that interval 98% of the time.\n"
   ]
  },
  {
   "cell_type": "markdown",
   "id": "df27897b-33ad-4dde-a46b-23dfe42b28f7",
   "metadata": {},
   "source": [
    "## Q2"
   ]
  },
  {
   "cell_type": "markdown",
   "id": "ff22d538-255b-4202-82e2-66c07c2a031d",
   "metadata": {},
   "source": [
    "### (a)"
   ]
  },
  {
   "cell_type": "code",
   "execution_count": 23,
   "id": "4f9785a5-7583-4a64-a081-fd9c014aa08a",
   "metadata": {},
   "outputs": [],
   "source": [
    "eCar = read.csv(\"NomisB_e-Car_Data.csv\")\n",
    "ecar = eCar[eCar$Car..Type == 'N' & eCar$Term == 60 & eCar$FICO>=655 \n",
    "            & eCar$FICO<=725 & eCar$Amount>=25000 & eCar$Amount<=50000,]"
   ]
  },
  {
   "cell_type": "markdown",
   "id": "9300af72-470a-4018-b5d4-6f8ebfde04c9",
   "metadata": {},
   "source": [
    "### Answer:\n",
    "#### The linear regression model is as follows:\n",
    "#### Outcome = a + b*APR + u\n",
    "#### where Outcome is a dummy variable."
   ]
  },
  {
   "cell_type": "markdown",
   "id": "e22101e0-cfad-4b5a-94a4-f34f835fb332",
   "metadata": {},
   "source": [
    "### (b)"
   ]
  },
  {
   "cell_type": "code",
   "execution_count": 24,
   "id": "910b9ac2-22fb-4f9f-a417-0566205927d9",
   "metadata": {},
   "outputs": [
    {
     "data": {
      "text/plain": [
       "\n",
       "Call:\n",
       "lm(formula = Outcome ~ Rate, data = ecar)\n",
       "\n",
       "Residuals:\n",
       "     Min       1Q   Median       3Q      Max \n",
       "-0.04686 -0.03726 -0.03296 -0.02651  1.00545 \n",
       "\n",
       "Coefficients:\n",
       "              Estimate Std. Error t value Pr(>|t|)    \n",
       "(Intercept)  0.0722954  0.0056971  12.690  < 2e-16 ***\n",
       "Rate        -0.0071656  0.0009621  -7.448 9.87e-14 ***\n",
       "---\n",
       "Signif. codes:  0 ‘***’ 0.001 ‘**’ 0.01 ‘*’ 0.05 ‘.’ 0.1 ‘ ’ 1\n",
       "\n",
       "Residual standard error: 0.1728 on 18725 degrees of freedom\n",
       "Multiple R-squared:  0.002954,\tAdjusted R-squared:  0.002901 \n",
       "F-statistic: 55.48 on 1 and 18725 DF,  p-value: 9.869e-14\n"
      ]
     },
     "metadata": {},
     "output_type": "display_data"
    }
   ],
   "source": [
    "my_lm_4 = lm(Outcome~Rate,data = ecar)\n",
    "summary(my_lm_4)"
   ]
  },
  {
   "cell_type": "markdown",
   "id": "5b301944-47dd-4cd5-932b-4e18bb86b971",
   "metadata": {},
   "source": [
    "### Answer:\n",
    "#### It is not a good fit since Multiple R-squared and Adjusted R-squared are low."
   ]
  },
  {
   "cell_type": "markdown",
   "id": "938778ac-fa4a-443d-9d24-3a303c5fe1bc",
   "metadata": {},
   "source": [
    "### (c)"
   ]
  },
  {
   "cell_type": "code",
   "execution_count": 25,
   "id": "a1db5698-204d-43e4-a004-2ae7a4260857",
   "metadata": {},
   "outputs": [
    {
     "data": {
      "text/plain": [
       "\n",
       "Call:\n",
       "lm(formula = Outcome ~ Rate + Competition.rate, data = ecar)\n",
       "\n",
       "Residuals:\n",
       "     Min       1Q   Median       3Q      Max \n",
       "-0.05491 -0.03909 -0.03261 -0.02273  1.00809 \n",
       "\n",
       "Coefficients:\n",
       "                   Estimate Std. Error t value Pr(>|t|)    \n",
       "(Intercept)       0.0057625  0.0137921   0.418    0.676    \n",
       "Rate             -0.0075970  0.0009648  -7.874 3.62e-15 ***\n",
       "Competition.rate  0.0152732  0.0028838   5.296 1.20e-07 ***\n",
       "---\n",
       "Signif. codes:  0 ‘***’ 0.001 ‘**’ 0.01 ‘*’ 0.05 ‘.’ 0.1 ‘ ’ 1\n",
       "\n",
       "Residual standard error: 0.1727 on 18724 degrees of freedom\n",
       "Multiple R-squared:  0.004445,\tAdjusted R-squared:  0.004339 \n",
       "F-statistic:  41.8 on 2 and 18724 DF,  p-value: < 2.2e-16\n"
      ]
     },
     "metadata": {},
     "output_type": "display_data"
    }
   ],
   "source": [
    "my_lm_5 = lm(Outcome~Rate+Competition.rate,data = ecar)\n",
    "summary(my_lm_5)"
   ]
  },
  {
   "cell_type": "markdown",
   "id": "f2ec0274-468e-4abf-80af-6071718bfb92",
   "metadata": {},
   "source": [
    "### Answer:\n",
    "#### Yes. The new model makes sense. By adding the competition rate into the model we can see the the probability of acceptance rises when the competitor's rate goes up. We could not reject the Intercept is 0 and but p values for Rate and Competition.rate are small which indicates it is very plausible that Outcome has linear relationship with Rate and Competition.rate.\n",
    "#### The fit improves a little bit but the overall performance is poor."
   ]
  },
  {
   "cell_type": "markdown",
   "id": "58c5d482-18bc-413c-8d67-47a91fbaa25e",
   "metadata": {
    "tags": []
   },
   "source": [
    "### (d)"
   ]
  },
  {
   "cell_type": "code",
   "execution_count": 26,
   "id": "f7356405-7022-4783-9871-845fea4ac59f",
   "metadata": {},
   "outputs": [
    {
     "name": "stdout",
     "output_type": "stream",
     "text": [
      "[1] 0.1118133\n"
     ]
    }
   ],
   "source": [
    "p2.residual = my_lm_5$residuals[ecar$Partner.Bin == 2]\n",
    "RSE = (sum(p2.residual^2)/(length(p2.residual)-2-1))^0.5\n",
    "print(RSE)"
   ]
  },
  {
   "cell_type": "markdown",
   "id": "92c9ae63-63c5-4ff3-bcb1-fdc1012e171e",
   "metadata": {},
   "source": [
    "### Answer:\n",
    "#### The RSE of the predictions for customers in Partner Bin 2 is 0.1118133"
   ]
  },
  {
   "cell_type": "markdown",
   "id": "c4cd424f-20f3-412d-a649-ad31d8f37243",
   "metadata": {
    "tags": []
   },
   "source": [
    "### (e)"
   ]
  },
  {
   "cell_type": "code",
   "execution_count": 27,
   "id": "8d09ce89-8848-4e35-9791-5a7e12998657",
   "metadata": {},
   "outputs": [],
   "source": [
    "Tecar = eCar[eCar$Car..Type == 'N' & eCar$FICO>=655 & eCar$FICO<=725 \n",
    "             & eCar$Amount>=25000 & eCar$Amount<=50000,]\n"
   ]
  },
  {
   "cell_type": "code",
   "execution_count": 28,
   "id": "2d7e80b5-fa60-4f11-968d-606f8bdf15ef",
   "metadata": {},
   "outputs": [
    {
     "data": {
      "text/plain": [
       "\n",
       "Call:\n",
       "lm(formula = Outcome ~ Rate + Competition.rate + Term, data = Tecar)\n",
       "\n",
       "Residuals:\n",
       "     Min       1Q   Median       3Q      Max \n",
       "-0.11508 -0.06284 -0.04587 -0.02641  1.05511 \n",
       "\n",
       "Coefficients:\n",
       "                   Estimate Std. Error t value Pr(>|t|)    \n",
       "(Intercept)      -0.1298429  0.0105007 -12.365   <2e-16 ***\n",
       "Rate             -0.0105915  0.0009035 -11.723   <2e-16 ***\n",
       "Competition.rate  0.0214525  0.0024229   8.854   <2e-16 ***\n",
       "Term              0.0022588  0.0001550  14.569   <2e-16 ***\n",
       "---\n",
       "Signif. codes:  0 ‘***’ 0.001 ‘**’ 0.01 ‘*’ 0.05 ‘.’ 0.1 ‘ ’ 1\n",
       "\n",
       "Residual standard error: 0.2087 on 33120 degrees of freedom\n",
       "Multiple R-squared:  0.01843,\tAdjusted R-squared:  0.01834 \n",
       "F-statistic: 207.3 on 3 and 33120 DF,  p-value: < 2.2e-16\n"
      ]
     },
     "metadata": {},
     "output_type": "display_data"
    }
   ],
   "source": [
    "my_lm_6 = lm(Outcome~Rate+Competition.rate+Term, data = Tecar)\n",
    "summary(my_lm_6)"
   ]
  },
  {
   "cell_type": "markdown",
   "id": "0bf0001a-85ea-4079-b835-f07dacb8c5a1",
   "metadata": {},
   "source": [
    "### Answer:\n",
    "#### The new model performs much better than previous models which suggest that Term is an important factor for predicting Outcome."
   ]
  },
  {
   "cell_type": "markdown",
   "id": "cb9af9c7-ef54-4540-9aeb-7a7b5a2b3d25",
   "metadata": {},
   "source": [
    "## Q3"
   ]
  },
  {
   "cell_type": "markdown",
   "id": "d7280472-682e-4f44-8ea1-5da3b584bd37",
   "metadata": {},
   "source": [
    "### (a)"
   ]
  },
  {
   "cell_type": "markdown",
   "id": "14924057-bb60-4173-a8d3-7dcb44af8950",
   "metadata": {},
   "source": [
    "### Answer:\n",
    "#### Because the absolute values are much more difficult to handle in our calculation. The RSS makes it much easier to operate mathematically"
   ]
  },
  {
   "cell_type": "markdown",
   "id": "cad07acb",
   "metadata": {},
   "source": [
    "#### We use RSS instead of the sum of the absolute values of the residuals basically due to following 3 reasons:  \n",
    "#### 1 RSS allows us to punish big errors more severely.\n",
    "#### 2 RSS is an smooth objective function which means it is a strictly convex function. So the minimum we find is the global minimum.\n",
    "#### 3 RSS is an unbiased estimator"
   ]
  },
  {
   "cell_type": "markdown",
   "id": "747c5f95-3b95-446b-98ea-6a68c07e1541",
   "metadata": {},
   "source": [
    "### (b)"
   ]
  },
  {
   "cell_type": "markdown",
   "id": "e5406a2d-81b1-4b55-9135-b2e47fd66ba5",
   "metadata": {},
   "source": [
    "### Answer:\n",
    "#### Because sometimes we need more specific number in the regression. What's more, if we only rely on plotting, it's impossible to judge whether two variables are signidicantly correlated or not. We need regression process to calculate the t value and p value of each parameters."
   ]
  },
  {
   "cell_type": "markdown",
   "id": "7edc79a4-1559-4ec2-a573-104f9cba35ee",
   "metadata": {},
   "source": [
    "### (c)"
   ]
  },
  {
   "cell_type": "markdown",
   "id": "bf7aeded-6a20-46f0-ade8-705187891b5c",
   "metadata": {},
   "source": [
    "### Answer:\n",
    "#### We mistakenly use the real value, instead of the predictive value, of the dependent variable as the subtracted term during the calculation of MSE.\n",
    "#### Ruling out some ridiculous mistakes such as wrong model, it is mostly likely to be caused by overfitting which means we have too many features that our model fits every data point perfectly. However, this kind of model makes no sense in prediction and we could not get insights from it."
   ]
  }
 ],
 "metadata": {
  "kernelspec": {
   "display_name": "R",
   "language": "R",
   "name": "ir"
  },
  "language_info": {
   "codemirror_mode": "r",
   "file_extension": ".r",
   "mimetype": "text/x-r-source",
   "name": "R",
   "pygments_lexer": "r",
   "version": "4.1.2"
  }
 },
 "nbformat": 4,
 "nbformat_minor": 5
}
