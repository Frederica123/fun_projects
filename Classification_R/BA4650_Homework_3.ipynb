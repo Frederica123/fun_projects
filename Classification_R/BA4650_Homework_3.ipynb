{
 "cells": [
  {
   "cell_type": "markdown",
   "metadata": {},
   "source": [
    "# IEOR 4650 - Business Analytics\n",
    "\n",
    "## Assignment 3\n",
    "\n",
    "### Team 29: Yufei Jin (yj2691) & Pierre Counathe (pc2977)"
   ]
  },
  {
   "cell_type": "code",
   "execution_count": 22,
   "metadata": {},
   "outputs": [],
   "source": [
    "library(ggplot2)\n",
    "library(glmnet)\n",
    "library(MASS)\n",
    "library(caret)\n",
    "library(class)"
   ]
  },
  {
   "cell_type": "markdown",
   "metadata": {},
   "source": [
    "# Problem 1"
   ]
  },
  {
   "cell_type": "markdown",
   "metadata": {},
   "source": [
    "### Question a)"
   ]
  },
  {
   "cell_type": "code",
   "execution_count": 23,
   "metadata": {},
   "outputs": [
    {
     "data": {
      "text/html": [
       "<table class=\"dataframe\">\n",
       "<caption>A data.frame: 6 × 14</caption>\n",
       "<thead>\n",
       "\t<tr><th></th><th scope=col>X</th><th scope=col>Purchase</th><th scope=col>WeekofPurchase</th><th scope=col>StoreID</th><th scope=col>PriceCH</th><th scope=col>PriceMM</th><th scope=col>DiscCH</th><th scope=col>DiscMM</th><th scope=col>SpecialCH</th><th scope=col>SpecialMM</th><th scope=col>LoyalCH</th><th scope=col>SalePriceMM</th><th scope=col>SalePriceCH</th><th scope=col>PriceDiff</th></tr>\n",
       "\t<tr><th></th><th scope=col>&lt;int&gt;</th><th scope=col>&lt;chr&gt;</th><th scope=col>&lt;int&gt;</th><th scope=col>&lt;int&gt;</th><th scope=col>&lt;dbl&gt;</th><th scope=col>&lt;dbl&gt;</th><th scope=col>&lt;dbl&gt;</th><th scope=col>&lt;dbl&gt;</th><th scope=col>&lt;int&gt;</th><th scope=col>&lt;int&gt;</th><th scope=col>&lt;dbl&gt;</th><th scope=col>&lt;dbl&gt;</th><th scope=col>&lt;dbl&gt;</th><th scope=col>&lt;dbl&gt;</th></tr>\n",
       "</thead>\n",
       "<tbody>\n",
       "\t<tr><th scope=row>1</th><td>1</td><td>CH</td><td>237</td><td>1</td><td>1.75</td><td>1.99</td><td>0.00</td><td>0.0</td><td>0</td><td>0</td><td>0.500000</td><td>1.99</td><td>1.75</td><td> 0.24</td></tr>\n",
       "\t<tr><th scope=row>2</th><td>2</td><td>CH</td><td>239</td><td>1</td><td>1.75</td><td>1.99</td><td>0.00</td><td>0.3</td><td>0</td><td>1</td><td>0.600000</td><td>1.69</td><td>1.75</td><td>-0.06</td></tr>\n",
       "\t<tr><th scope=row>3</th><td>3</td><td>CH</td><td>245</td><td>1</td><td>1.86</td><td>2.09</td><td>0.17</td><td>0.0</td><td>0</td><td>0</td><td>0.680000</td><td>2.09</td><td>1.69</td><td> 0.40</td></tr>\n",
       "\t<tr><th scope=row>4</th><td>4</td><td>MM</td><td>227</td><td>1</td><td>1.69</td><td>1.69</td><td>0.00</td><td>0.0</td><td>0</td><td>0</td><td>0.400000</td><td>1.69</td><td>1.69</td><td> 0.00</td></tr>\n",
       "\t<tr><th scope=row>5</th><td>5</td><td>CH</td><td>228</td><td>7</td><td>1.69</td><td>1.69</td><td>0.00</td><td>0.0</td><td>0</td><td>0</td><td>0.956535</td><td>1.69</td><td>1.69</td><td> 0.00</td></tr>\n",
       "\t<tr><th scope=row>6</th><td>6</td><td>CH</td><td>230</td><td>7</td><td>1.69</td><td>1.99</td><td>0.00</td><td>0.0</td><td>0</td><td>1</td><td>0.965228</td><td>1.99</td><td>1.69</td><td> 0.30</td></tr>\n",
       "</tbody>\n",
       "</table>\n"
      ],
      "text/latex": [
       "A data.frame: 6 × 14\n",
       "\\begin{tabular}{r|llllllllllllll}\n",
       "  & X & Purchase & WeekofPurchase & StoreID & PriceCH & PriceMM & DiscCH & DiscMM & SpecialCH & SpecialMM & LoyalCH & SalePriceMM & SalePriceCH & PriceDiff\\\\\n",
       "  & <int> & <chr> & <int> & <int> & <dbl> & <dbl> & <dbl> & <dbl> & <int> & <int> & <dbl> & <dbl> & <dbl> & <dbl>\\\\\n",
       "\\hline\n",
       "\t1 & 1 & CH & 237 & 1 & 1.75 & 1.99 & 0.00 & 0.0 & 0 & 0 & 0.500000 & 1.99 & 1.75 &  0.24\\\\\n",
       "\t2 & 2 & CH & 239 & 1 & 1.75 & 1.99 & 0.00 & 0.3 & 0 & 1 & 0.600000 & 1.69 & 1.75 & -0.06\\\\\n",
       "\t3 & 3 & CH & 245 & 1 & 1.86 & 2.09 & 0.17 & 0.0 & 0 & 0 & 0.680000 & 2.09 & 1.69 &  0.40\\\\\n",
       "\t4 & 4 & MM & 227 & 1 & 1.69 & 1.69 & 0.00 & 0.0 & 0 & 0 & 0.400000 & 1.69 & 1.69 &  0.00\\\\\n",
       "\t5 & 5 & CH & 228 & 7 & 1.69 & 1.69 & 0.00 & 0.0 & 0 & 0 & 0.956535 & 1.69 & 1.69 &  0.00\\\\\n",
       "\t6 & 6 & CH & 230 & 7 & 1.69 & 1.99 & 0.00 & 0.0 & 0 & 1 & 0.965228 & 1.99 & 1.69 &  0.30\\\\\n",
       "\\end{tabular}\n"
      ],
      "text/markdown": [
       "\n",
       "A data.frame: 6 × 14\n",
       "\n",
       "| <!--/--> | X &lt;int&gt; | Purchase &lt;chr&gt; | WeekofPurchase &lt;int&gt; | StoreID &lt;int&gt; | PriceCH &lt;dbl&gt; | PriceMM &lt;dbl&gt; | DiscCH &lt;dbl&gt; | DiscMM &lt;dbl&gt; | SpecialCH &lt;int&gt; | SpecialMM &lt;int&gt; | LoyalCH &lt;dbl&gt; | SalePriceMM &lt;dbl&gt; | SalePriceCH &lt;dbl&gt; | PriceDiff &lt;dbl&gt; |\n",
       "|---|---|---|---|---|---|---|---|---|---|---|---|---|---|---|\n",
       "| 1 | 1 | CH | 237 | 1 | 1.75 | 1.99 | 0.00 | 0.0 | 0 | 0 | 0.500000 | 1.99 | 1.75 |  0.24 |\n",
       "| 2 | 2 | CH | 239 | 1 | 1.75 | 1.99 | 0.00 | 0.3 | 0 | 1 | 0.600000 | 1.69 | 1.75 | -0.06 |\n",
       "| 3 | 3 | CH | 245 | 1 | 1.86 | 2.09 | 0.17 | 0.0 | 0 | 0 | 0.680000 | 2.09 | 1.69 |  0.40 |\n",
       "| 4 | 4 | MM | 227 | 1 | 1.69 | 1.69 | 0.00 | 0.0 | 0 | 0 | 0.400000 | 1.69 | 1.69 |  0.00 |\n",
       "| 5 | 5 | CH | 228 | 7 | 1.69 | 1.69 | 0.00 | 0.0 | 0 | 0 | 0.956535 | 1.69 | 1.69 |  0.00 |\n",
       "| 6 | 6 | CH | 230 | 7 | 1.69 | 1.99 | 0.00 | 0.0 | 0 | 1 | 0.965228 | 1.99 | 1.69 |  0.30 |\n",
       "\n"
      ],
      "text/plain": [
       "  X Purchase WeekofPurchase StoreID PriceCH PriceMM DiscCH DiscMM SpecialCH\n",
       "1 1 CH       237            1       1.75    1.99    0.00   0.0    0        \n",
       "2 2 CH       239            1       1.75    1.99    0.00   0.3    0        \n",
       "3 3 CH       245            1       1.86    2.09    0.17   0.0    0        \n",
       "4 4 MM       227            1       1.69    1.69    0.00   0.0    0        \n",
       "5 5 CH       228            7       1.69    1.69    0.00   0.0    0        \n",
       "6 6 CH       230            7       1.69    1.99    0.00   0.0    0        \n",
       "  SpecialMM LoyalCH  SalePriceMM SalePriceCH PriceDiff\n",
       "1 0         0.500000 1.99        1.75         0.24    \n",
       "2 1         0.600000 1.69        1.75        -0.06    \n",
       "3 0         0.680000 2.09        1.69         0.40    \n",
       "4 0         0.400000 1.69        1.69         0.00    \n",
       "5 0         0.956535 1.69        1.69         0.00    \n",
       "6 1         0.965228 1.99        1.69         0.30    "
      ]
     },
     "metadata": {},
     "output_type": "display_data"
    },
    {
     "data": {
      "text/html": [
       "0"
      ],
      "text/latex": [
       "0"
      ],
      "text/markdown": [
       "0"
      ],
      "text/plain": [
       "[1] 0"
      ]
     },
     "metadata": {},
     "output_type": "display_data"
    }
   ],
   "source": [
    "# Import data and set seed for repeatability\n",
    "set.seed(4650)\n",
    "orange_data <- read.csv(\"OrangeJuice.csv\")\n",
    "head(orange_data)\n",
    "sum(is.na(orange_data))"
   ]
  },
  {
   "cell_type": "code",
   "execution_count": 24,
   "metadata": {},
   "outputs": [],
   "source": [
    "split <- sample(c(rep(0, 0.5 * nrow(orange_data)), \n",
    "                  rep(1, 0.25 * nrow(orange_data)), \n",
    "                  rep(2, 0.25 * nrow(orange_data))))\n",
    "\n",
    "train_set <- orange_data[split == 0, ]\n",
    "validation_set <- orange_data[split == 1, ]\n",
    "test_set <- orange_data[split == 2, ]     "
   ]
  },
  {
   "cell_type": "code",
   "execution_count": 25,
   "metadata": {},
   "outputs": [
    {
     "data": {
      "text/plain": [
       "       X            Purchase         WeekofPurchase     StoreID     \n",
       " Min.   :   1.0   Length:536         Min.   :227.0   Min.   :1.000  \n",
       " 1st Qu.: 278.8   Class :character   1st Qu.:239.0   1st Qu.:2.000  \n",
       " Median : 549.5   Mode  :character   Median :256.5   Median :3.000  \n",
       " Mean   : 547.1                      Mean   :254.0   Mean   :4.013  \n",
       " 3rd Qu.: 810.2                      3rd Qu.:267.0   3rd Qu.:7.000  \n",
       " Max.   :1070.0                      Max.   :278.0   Max.   :7.000  \n",
       "    PriceCH         PriceMM          DiscCH            DiscMM     \n",
       " Min.   :1.690   Min.   :1.690   Min.   :0.00000   Min.   :0.000  \n",
       " 1st Qu.:1.790   1st Qu.:1.990   1st Qu.:0.00000   1st Qu.:0.000  \n",
       " Median :1.860   Median :2.090   Median :0.00000   Median :0.000  \n",
       " Mean   :1.865   Mean   :2.079   Mean   :0.05401   Mean   :0.138  \n",
       " 3rd Qu.:1.990   3rd Qu.:2.180   3rd Qu.:0.00000   3rd Qu.:0.300  \n",
       " Max.   :2.090   Max.   :2.290   Max.   :0.50000   Max.   :0.800  \n",
       "   SpecialCH        SpecialMM         LoyalCH          SalePriceMM   \n",
       " Min.   :0.0000   Min.   :0.0000   Min.   :0.000014   Min.   :1.190  \n",
       " 1st Qu.:0.0000   1st Qu.:0.0000   1st Qu.:0.320000   1st Qu.:1.690  \n",
       " Median :0.0000   Median :0.0000   Median :0.584000   Median :2.090  \n",
       " Mean   :0.1549   Mean   :0.1679   Mean   :0.553022   Mean   :1.941  \n",
       " 3rd Qu.:0.0000   3rd Qu.:0.0000   3rd Qu.:0.836160   3rd Qu.:2.130  \n",
       " Max.   :1.0000   Max.   :1.0000   Max.   :0.999947   Max.   :2.290  \n",
       "  SalePriceCH      PriceDiff      \n",
       " Min.   :1.390   Min.   :-0.6700  \n",
       " 1st Qu.:1.750   1st Qu.: 0.0000  \n",
       " Median :1.860   Median : 0.2000  \n",
       " Mean   :1.811   Mean   : 0.1304  \n",
       " 3rd Qu.:1.890   3rd Qu.: 0.3000  \n",
       " Max.   :2.090   Max.   : 0.6400  "
      ]
     },
     "metadata": {},
     "output_type": "display_data"
    }
   ],
   "source": [
    "summary(train_set)"
   ]
  },
  {
   "cell_type": "markdown",
   "metadata": {},
   "source": [
    "#### Covariance analysis"
   ]
  },
  {
   "cell_type": "code",
   "execution_count": 26,
   "metadata": {},
   "outputs": [
    {
     "data": {
      "text/html": [
       "<table class=\"dataframe\">\n",
       "<caption>A matrix: 12 × 12 of type dbl</caption>\n",
       "<thead>\n",
       "\t<tr><th></th><th scope=col>WeekofPurchase</th><th scope=col>StoreID</th><th scope=col>PriceCH</th><th scope=col>PriceMM</th><th scope=col>DiscCH</th><th scope=col>DiscMM</th><th scope=col>SpecialCH</th><th scope=col>SpecialMM</th><th scope=col>LoyalCH</th><th scope=col>SalePriceMM</th><th scope=col>SalePriceCH</th><th scope=col>PriceDiff</th></tr>\n",
       "</thead>\n",
       "<tbody>\n",
       "\t<tr><th scope=row>WeekofPurchase</th><td>1.00000000</td><td> 0.075895145</td><td> 0.72772771</td><td> 0.62056969</td><td> 0.37019101</td><td> 0.217898836</td><td> 0.05430032</td><td> 0.06150050</td><td> 0.15856567</td><td> 0.13556579</td><td> 0.20825004</td><td> 0.01828848</td></tr>\n",
       "\t<tr><th scope=row>StoreID</th><td>0.07589514</td><td> 1.000000000</td><td>-0.01682954</td><td> 0.06675979</td><td> 0.32000072</td><td> 0.008418251</td><td> 0.37227842</td><td>-0.15608507</td><td> 0.23401598</td><td> 0.02753165</td><td>-0.27442898</td><td> 0.16907171</td></tr>\n",
       "\t<tr><th scope=row>PriceCH</th><td>0.72772771</td><td>-0.016829542</td><td> 1.00000000</td><td> 0.62721464</td><td> 0.14583830</td><td> 0.093074190</td><td>-0.14024001</td><td>-0.02655727</td><td> 0.03390598</td><td> 0.24661025</td><td> 0.58391912</td><td>-0.07380543</td></tr>\n",
       "\t<tr><th scope=row>PriceMM</th><td>0.62056969</td><td> 0.066759788</td><td> 0.62721464</td><td> 1.00000000</td><td> 0.07160843</td><td> 0.015956885</td><td>-0.06149618</td><td>-0.04711281</td><td> 0.06650592</td><td> 0.50732508</td><td> 0.38254230</td><td> 0.27559971</td></tr>\n",
       "\t<tr><th scope=row>DiscCH</th><td>0.37019101</td><td> 0.320000724</td><td> 0.14583830</td><td> 0.07160843</td><td> 1.00000000</td><td> 0.015316581</td><td> 0.53220322</td><td>-0.05682903</td><td> 0.13473325</td><td> 0.02411274</td><td>-0.71797454</td><td> 0.39743951</td></tr>\n",
       "\t<tr><th scope=row>DiscMM</th><td>0.21789884</td><td> 0.008418251</td><td> 0.09307419</td><td> 0.01595688</td><td> 0.01531658</td><td> 1.000000000</td><td> 0.17288920</td><td> 0.50647039</td><td>-0.02887638</td><td>-0.85354971</td><td> 0.05291768</td><td>-0.82733311</td></tr>\n",
       "\t<tr><th scope=row>SpecialCH</th><td>0.05430032</td><td> 0.372278420</td><td>-0.14024001</td><td>-0.06149618</td><td> 0.53220322</td><td> 0.172889199</td><td> 1.00000000</td><td>-0.15089296</td><td> 0.12337308</td><td>-0.18105135</td><td>-0.53538980</td><td> 0.10989197</td></tr>\n",
       "\t<tr><th scope=row>SpecialMM</th><td>0.06150050</td><td>-0.156085071</td><td>-0.02655727</td><td>-0.04711281</td><td>-0.05682903</td><td> 0.506470389</td><td>-0.15089296</td><td> 1.00000000</td><td>-0.09860898</td><td>-0.46105828</td><td> 0.02794758</td><td>-0.44656453</td></tr>\n",
       "\t<tr><th scope=row>LoyalCH</th><td>0.15856567</td><td> 0.234015985</td><td> 0.03390598</td><td> 0.06650592</td><td> 0.13473325</td><td>-0.028876378</td><td> 0.12337308</td><td>-0.09860898</td><td> 1.00000000</td><td> 0.05954228</td><td>-0.08670414</td><td> 0.10105361</td></tr>\n",
       "\t<tr><th scope=row>SalePriceMM</th><td>0.13556579</td><td> 0.027531649</td><td> 0.24661025</td><td> 0.50732508</td><td> 0.02411274</td><td>-0.853549715</td><td>-0.18105135</td><td>-0.46105828</td><td> 0.05954228</td><td> 1.00000000</td><td> 0.15372641</td><td> 0.85665791</td></tr>\n",
       "\t<tr><th scope=row>SalePriceCH</th><td>0.20825004</td><td>-0.274428979</td><td> 0.58391912</td><td> 0.38254230</td><td>-0.71797454</td><td> 0.052917684</td><td>-0.53538980</td><td> 0.02794758</td><td>-0.08670414</td><td> 0.15372641</td><td> 1.00000000</td><td>-0.37806187</td></tr>\n",
       "\t<tr><th scope=row>PriceDiff</th><td>0.01828848</td><td> 0.169071705</td><td>-0.07380543</td><td> 0.27559971</td><td> 0.39743951</td><td>-0.827333108</td><td> 0.10989197</td><td>-0.44656453</td><td> 0.10105361</td><td> 0.85665791</td><td>-0.37806187</td><td> 1.00000000</td></tr>\n",
       "</tbody>\n",
       "</table>\n"
      ],
      "text/latex": [
       "A matrix: 12 × 12 of type dbl\n",
       "\\begin{tabular}{r|llllllllllll}\n",
       "  & WeekofPurchase & StoreID & PriceCH & PriceMM & DiscCH & DiscMM & SpecialCH & SpecialMM & LoyalCH & SalePriceMM & SalePriceCH & PriceDiff\\\\\n",
       "\\hline\n",
       "\tWeekofPurchase & 1.00000000 &  0.075895145 &  0.72772771 &  0.62056969 &  0.37019101 &  0.217898836 &  0.05430032 &  0.06150050 &  0.15856567 &  0.13556579 &  0.20825004 &  0.01828848\\\\\n",
       "\tStoreID & 0.07589514 &  1.000000000 & -0.01682954 &  0.06675979 &  0.32000072 &  0.008418251 &  0.37227842 & -0.15608507 &  0.23401598 &  0.02753165 & -0.27442898 &  0.16907171\\\\\n",
       "\tPriceCH & 0.72772771 & -0.016829542 &  1.00000000 &  0.62721464 &  0.14583830 &  0.093074190 & -0.14024001 & -0.02655727 &  0.03390598 &  0.24661025 &  0.58391912 & -0.07380543\\\\\n",
       "\tPriceMM & 0.62056969 &  0.066759788 &  0.62721464 &  1.00000000 &  0.07160843 &  0.015956885 & -0.06149618 & -0.04711281 &  0.06650592 &  0.50732508 &  0.38254230 &  0.27559971\\\\\n",
       "\tDiscCH & 0.37019101 &  0.320000724 &  0.14583830 &  0.07160843 &  1.00000000 &  0.015316581 &  0.53220322 & -0.05682903 &  0.13473325 &  0.02411274 & -0.71797454 &  0.39743951\\\\\n",
       "\tDiscMM & 0.21789884 &  0.008418251 &  0.09307419 &  0.01595688 &  0.01531658 &  1.000000000 &  0.17288920 &  0.50647039 & -0.02887638 & -0.85354971 &  0.05291768 & -0.82733311\\\\\n",
       "\tSpecialCH & 0.05430032 &  0.372278420 & -0.14024001 & -0.06149618 &  0.53220322 &  0.172889199 &  1.00000000 & -0.15089296 &  0.12337308 & -0.18105135 & -0.53538980 &  0.10989197\\\\\n",
       "\tSpecialMM & 0.06150050 & -0.156085071 & -0.02655727 & -0.04711281 & -0.05682903 &  0.506470389 & -0.15089296 &  1.00000000 & -0.09860898 & -0.46105828 &  0.02794758 & -0.44656453\\\\\n",
       "\tLoyalCH & 0.15856567 &  0.234015985 &  0.03390598 &  0.06650592 &  0.13473325 & -0.028876378 &  0.12337308 & -0.09860898 &  1.00000000 &  0.05954228 & -0.08670414 &  0.10105361\\\\\n",
       "\tSalePriceMM & 0.13556579 &  0.027531649 &  0.24661025 &  0.50732508 &  0.02411274 & -0.853549715 & -0.18105135 & -0.46105828 &  0.05954228 &  1.00000000 &  0.15372641 &  0.85665791\\\\\n",
       "\tSalePriceCH & 0.20825004 & -0.274428979 &  0.58391912 &  0.38254230 & -0.71797454 &  0.052917684 & -0.53538980 &  0.02794758 & -0.08670414 &  0.15372641 &  1.00000000 & -0.37806187\\\\\n",
       "\tPriceDiff & 0.01828848 &  0.169071705 & -0.07380543 &  0.27559971 &  0.39743951 & -0.827333108 &  0.10989197 & -0.44656453 &  0.10105361 &  0.85665791 & -0.37806187 &  1.00000000\\\\\n",
       "\\end{tabular}\n"
      ],
      "text/markdown": [
       "\n",
       "A matrix: 12 × 12 of type dbl\n",
       "\n",
       "| <!--/--> | WeekofPurchase | StoreID | PriceCH | PriceMM | DiscCH | DiscMM | SpecialCH | SpecialMM | LoyalCH | SalePriceMM | SalePriceCH | PriceDiff |\n",
       "|---|---|---|---|---|---|---|---|---|---|---|---|---|\n",
       "| WeekofPurchase | 1.00000000 |  0.075895145 |  0.72772771 |  0.62056969 |  0.37019101 |  0.217898836 |  0.05430032 |  0.06150050 |  0.15856567 |  0.13556579 |  0.20825004 |  0.01828848 |\n",
       "| StoreID | 0.07589514 |  1.000000000 | -0.01682954 |  0.06675979 |  0.32000072 |  0.008418251 |  0.37227842 | -0.15608507 |  0.23401598 |  0.02753165 | -0.27442898 |  0.16907171 |\n",
       "| PriceCH | 0.72772771 | -0.016829542 |  1.00000000 |  0.62721464 |  0.14583830 |  0.093074190 | -0.14024001 | -0.02655727 |  0.03390598 |  0.24661025 |  0.58391912 | -0.07380543 |\n",
       "| PriceMM | 0.62056969 |  0.066759788 |  0.62721464 |  1.00000000 |  0.07160843 |  0.015956885 | -0.06149618 | -0.04711281 |  0.06650592 |  0.50732508 |  0.38254230 |  0.27559971 |\n",
       "| DiscCH | 0.37019101 |  0.320000724 |  0.14583830 |  0.07160843 |  1.00000000 |  0.015316581 |  0.53220322 | -0.05682903 |  0.13473325 |  0.02411274 | -0.71797454 |  0.39743951 |\n",
       "| DiscMM | 0.21789884 |  0.008418251 |  0.09307419 |  0.01595688 |  0.01531658 |  1.000000000 |  0.17288920 |  0.50647039 | -0.02887638 | -0.85354971 |  0.05291768 | -0.82733311 |\n",
       "| SpecialCH | 0.05430032 |  0.372278420 | -0.14024001 | -0.06149618 |  0.53220322 |  0.172889199 |  1.00000000 | -0.15089296 |  0.12337308 | -0.18105135 | -0.53538980 |  0.10989197 |\n",
       "| SpecialMM | 0.06150050 | -0.156085071 | -0.02655727 | -0.04711281 | -0.05682903 |  0.506470389 | -0.15089296 |  1.00000000 | -0.09860898 | -0.46105828 |  0.02794758 | -0.44656453 |\n",
       "| LoyalCH | 0.15856567 |  0.234015985 |  0.03390598 |  0.06650592 |  0.13473325 | -0.028876378 |  0.12337308 | -0.09860898 |  1.00000000 |  0.05954228 | -0.08670414 |  0.10105361 |\n",
       "| SalePriceMM | 0.13556579 |  0.027531649 |  0.24661025 |  0.50732508 |  0.02411274 | -0.853549715 | -0.18105135 | -0.46105828 |  0.05954228 |  1.00000000 |  0.15372641 |  0.85665791 |\n",
       "| SalePriceCH | 0.20825004 | -0.274428979 |  0.58391912 |  0.38254230 | -0.71797454 |  0.052917684 | -0.53538980 |  0.02794758 | -0.08670414 |  0.15372641 |  1.00000000 | -0.37806187 |\n",
       "| PriceDiff | 0.01828848 |  0.169071705 | -0.07380543 |  0.27559971 |  0.39743951 | -0.827333108 |  0.10989197 | -0.44656453 |  0.10105361 |  0.85665791 | -0.37806187 |  1.00000000 |\n",
       "\n"
      ],
      "text/plain": [
       "               WeekofPurchase StoreID      PriceCH     PriceMM     DiscCH     \n",
       "WeekofPurchase 1.00000000      0.075895145  0.72772771  0.62056969  0.37019101\n",
       "StoreID        0.07589514      1.000000000 -0.01682954  0.06675979  0.32000072\n",
       "PriceCH        0.72772771     -0.016829542  1.00000000  0.62721464  0.14583830\n",
       "PriceMM        0.62056969      0.066759788  0.62721464  1.00000000  0.07160843\n",
       "DiscCH         0.37019101      0.320000724  0.14583830  0.07160843  1.00000000\n",
       "DiscMM         0.21789884      0.008418251  0.09307419  0.01595688  0.01531658\n",
       "SpecialCH      0.05430032      0.372278420 -0.14024001 -0.06149618  0.53220322\n",
       "SpecialMM      0.06150050     -0.156085071 -0.02655727 -0.04711281 -0.05682903\n",
       "LoyalCH        0.15856567      0.234015985  0.03390598  0.06650592  0.13473325\n",
       "SalePriceMM    0.13556579      0.027531649  0.24661025  0.50732508  0.02411274\n",
       "SalePriceCH    0.20825004     -0.274428979  0.58391912  0.38254230 -0.71797454\n",
       "PriceDiff      0.01828848      0.169071705 -0.07380543  0.27559971  0.39743951\n",
       "               DiscMM       SpecialCH   SpecialMM   LoyalCH     SalePriceMM\n",
       "WeekofPurchase  0.217898836  0.05430032  0.06150050  0.15856567  0.13556579\n",
       "StoreID         0.008418251  0.37227842 -0.15608507  0.23401598  0.02753165\n",
       "PriceCH         0.093074190 -0.14024001 -0.02655727  0.03390598  0.24661025\n",
       "PriceMM         0.015956885 -0.06149618 -0.04711281  0.06650592  0.50732508\n",
       "DiscCH          0.015316581  0.53220322 -0.05682903  0.13473325  0.02411274\n",
       "DiscMM          1.000000000  0.17288920  0.50647039 -0.02887638 -0.85354971\n",
       "SpecialCH       0.172889199  1.00000000 -0.15089296  0.12337308 -0.18105135\n",
       "SpecialMM       0.506470389 -0.15089296  1.00000000 -0.09860898 -0.46105828\n",
       "LoyalCH        -0.028876378  0.12337308 -0.09860898  1.00000000  0.05954228\n",
       "SalePriceMM    -0.853549715 -0.18105135 -0.46105828  0.05954228  1.00000000\n",
       "SalePriceCH     0.052917684 -0.53538980  0.02794758 -0.08670414  0.15372641\n",
       "PriceDiff      -0.827333108  0.10989197 -0.44656453  0.10105361  0.85665791\n",
       "               SalePriceCH PriceDiff  \n",
       "WeekofPurchase  0.20825004  0.01828848\n",
       "StoreID        -0.27442898  0.16907171\n",
       "PriceCH         0.58391912 -0.07380543\n",
       "PriceMM         0.38254230  0.27559971\n",
       "DiscCH         -0.71797454  0.39743951\n",
       "DiscMM          0.05291768 -0.82733311\n",
       "SpecialCH      -0.53538980  0.10989197\n",
       "SpecialMM       0.02794758 -0.44656453\n",
       "LoyalCH        -0.08670414  0.10105361\n",
       "SalePriceMM     0.15372641  0.85665791\n",
       "SalePriceCH     1.00000000 -0.37806187\n",
       "PriceDiff      -0.37806187  1.00000000"
      ]
     },
     "metadata": {},
     "output_type": "display_data"
    }
   ],
   "source": [
    "non_numerical_columns <- c(\"X\", \"Purchase\")\n",
    "cor(train_set[!(names(train_set) %in% non_numerical_columns)])"
   ]
  },
  {
   "cell_type": "markdown",
   "metadata": {},
   "source": [
    "There is no perfect covariance at first sight, but let's check the relation between Prices, SalePrices and Discounts."
   ]
  },
  {
   "cell_type": "code",
   "execution_count": 27,
   "metadata": {},
   "outputs": [
    {
     "data": {
      "text/html": [
       "1.50990331349021e-14"
      ],
      "text/latex": [
       "1.50990331349021e-14"
      ],
      "text/markdown": [
       "1.50990331349021e-14"
      ],
      "text/plain": [
       "[1] 1.509903e-14"
      ]
     },
     "metadata": {},
     "output_type": "display_data"
    },
    {
     "data": {
      "text/html": [
       "9.54791801177635e-15"
      ],
      "text/latex": [
       "9.54791801177635e-15"
      ],
      "text/markdown": [
       "9.54791801177635e-15"
      ],
      "text/plain": [
       "[1] 9.547918e-15"
      ]
     },
     "metadata": {},
     "output_type": "display_data"
    },
    {
     "data": {
      "image/png": "[encoded data removed]",
      "text/plain": [
       "Plot with title \"Price against Sale Price (MM)\""
      ]
     },
     "metadata": {
      "image/png": {
       "height": 420,
       "width": 420
      }
     },
     "output_type": "display_data"
    }
   ],
   "source": [
    "# We plot Price against SalePrice for MM\n",
    "plot(train_set$PriceMM, train_set$SalePriceMM,\n",
    "    xlab = \"PriceMM\", ylab = \"SalePriceMM\", \n",
    "    main = \"Price against Sale Price (MM)\")\n",
    "\n",
    "\n",
    "# As values of SalePrice are under Price values, \n",
    "# we try to see if the SalePrice + Discount sums to Price\n",
    "sum(abs(train_set$PriceMM - (train_set$SalePriceMM + train_set$DiscMM)))\n",
    "sum(abs(train_set$PriceCH - (train_set$SalePriceCH + train_set$DiscCH)))"
   ]
  },
  {
   "cell_type": "markdown",
   "metadata": {},
   "source": [
    "The difference between `train_set$PriceMM` and `train_set$SalePriceMM + train_set$DiscMM` is so small that we consider it to be the same (approximation errors)."
   ]
  },
  {
   "cell_type": "markdown",
   "metadata": {},
   "source": [
    "- Qualitative variables are:\n",
    "    - `Purchase` ( Although some methods could take care of it, it is better to be transformed to binary 0 / 1 )\n",
    "    - `StoreID`\n",
    "    - `SpecialMM` and `SpecialCH`\n",
    "\n",
    "- Variables to be dropped are:\n",
    "    - `PriceDiff` (difference of two other columns, introduces multicolinearity in the dataset)\n",
    "    - `SalePriceCH` and `SalePriceMM` (or discount columns, for the same reason)\n",
    "    - `X`, that is the index\n",
    "\n",
    "- We keep `WeekOfPurchase` for now as continuous, it might have an effect on the model if there is a trend in the choice for CH or MM"
   ]
  },
  {
   "cell_type": "code",
   "execution_count": 28,
   "metadata": {},
   "outputs": [],
   "source": [
    "# We do the trnasformation we just talked about on the whole dataset \n",
    "# and then split again\n",
    "\n",
    "# Create factors for qualitative variables or non ordered quantitative variables\n",
    "orange_data$Purchase <- factor(orange_data$Purchase)\n",
    "orange_data$Purchase.MM <- as.integer(as.logical(orange_data$Purchase == 'MM'))\n",
    "orange_data$SpecialCH <- factor(orange_data$SpecialCH)\n",
    "orange_data$SpecialMM <- factor(orange_data$SpecialMM)\n",
    "orange_data$StoreID <- factor(orange_data$StoreID)\n",
    "\n",
    "# Drop irrelevant columns\n",
    "to_drop <- c(\"X\", \"PriceDiff\", \"Purchase\", \"SalePriceCH\", \"SalePriceMM\")\n",
    "orange_data <- orange_data[!(names(orange_data) %in% to_drop)]\n",
    "\n",
    "split2 <- sample(c(rep(0, 0.5 * nrow(orange_data)), \n",
    "                   rep(1, 0.25 * nrow(orange_data)), \n",
    "                   rep(2, 0.25 * nrow(orange_data))))\n",
    "\n",
    "final_train_set <- orange_data[split2 == 0, ]\n",
    "final_validation_set <- orange_data[split2 == 1, ]\n",
    "final_test_set <- orange_data[split2 == 2, ]   "
   ]
  },
  {
   "cell_type": "code",
   "execution_count": 29,
   "metadata": {},
   "outputs": [
    {
     "data": {
      "text/html": [
       "<table class=\"dataframe\">\n",
       "<caption>A data.frame: 6 × 10</caption>\n",
       "<thead>\n",
       "\t<tr><th></th><th scope=col>WeekofPurchase</th><th scope=col>StoreID</th><th scope=col>PriceCH</th><th scope=col>PriceMM</th><th scope=col>DiscCH</th><th scope=col>DiscMM</th><th scope=col>SpecialCH</th><th scope=col>SpecialMM</th><th scope=col>LoyalCH</th><th scope=col>Purchase.MM</th></tr>\n",
       "\t<tr><th></th><th scope=col>&lt;int&gt;</th><th scope=col>&lt;fct&gt;</th><th scope=col>&lt;dbl&gt;</th><th scope=col>&lt;dbl&gt;</th><th scope=col>&lt;dbl&gt;</th><th scope=col>&lt;dbl&gt;</th><th scope=col>&lt;fct&gt;</th><th scope=col>&lt;fct&gt;</th><th scope=col>&lt;dbl&gt;</th><th scope=col>&lt;int&gt;</th></tr>\n",
       "</thead>\n",
       "<tbody>\n",
       "\t<tr><th scope=row>2</th><td>239</td><td>1</td><td>1.75</td><td>1.99</td><td>0.00</td><td>0.3</td><td>0</td><td>1</td><td>0.600000</td><td>0</td></tr>\n",
       "\t<tr><th scope=row>3</th><td>245</td><td>1</td><td>1.86</td><td>2.09</td><td>0.17</td><td>0.0</td><td>0</td><td>0</td><td>0.680000</td><td>0</td></tr>\n",
       "\t<tr><th scope=row>4</th><td>227</td><td>1</td><td>1.69</td><td>1.69</td><td>0.00</td><td>0.0</td><td>0</td><td>0</td><td>0.400000</td><td>1</td></tr>\n",
       "\t<tr><th scope=row>7</th><td>232</td><td>7</td><td>1.69</td><td>1.99</td><td>0.00</td><td>0.4</td><td>1</td><td>1</td><td>0.972182</td><td>0</td></tr>\n",
       "\t<tr><th scope=row>8</th><td>234</td><td>7</td><td>1.75</td><td>1.99</td><td>0.00</td><td>0.4</td><td>1</td><td>0</td><td>0.977746</td><td>0</td></tr>\n",
       "\t<tr><th scope=row>16</th><td>278</td><td>7</td><td>2.06</td><td>2.13</td><td>0.00</td><td>0.0</td><td>0</td><td>0</td><td>0.795200</td><td>0</td></tr>\n",
       "</tbody>\n",
       "</table>\n"
      ],
      "text/latex": [
       "A data.frame: 6 × 10\n",
       "\\begin{tabular}{r|llllllllll}\n",
       "  & WeekofPurchase & StoreID & PriceCH & PriceMM & DiscCH & DiscMM & SpecialCH & SpecialMM & LoyalCH & Purchase.MM\\\\\n",
       "  & <int> & <fct> & <dbl> & <dbl> & <dbl> & <dbl> & <fct> & <fct> & <dbl> & <int>\\\\\n",
       "\\hline\n",
       "\t2 & 239 & 1 & 1.75 & 1.99 & 0.00 & 0.3 & 0 & 1 & 0.600000 & 0\\\\\n",
       "\t3 & 245 & 1 & 1.86 & 2.09 & 0.17 & 0.0 & 0 & 0 & 0.680000 & 0\\\\\n",
       "\t4 & 227 & 1 & 1.69 & 1.69 & 0.00 & 0.0 & 0 & 0 & 0.400000 & 1\\\\\n",
       "\t7 & 232 & 7 & 1.69 & 1.99 & 0.00 & 0.4 & 1 & 1 & 0.972182 & 0\\\\\n",
       "\t8 & 234 & 7 & 1.75 & 1.99 & 0.00 & 0.4 & 1 & 0 & 0.977746 & 0\\\\\n",
       "\t16 & 278 & 7 & 2.06 & 2.13 & 0.00 & 0.0 & 0 & 0 & 0.795200 & 0\\\\\n",
       "\\end{tabular}\n"
      ],
      "text/markdown": [
       "\n",
       "A data.frame: 6 × 10\n",
       "\n",
       "| <!--/--> | WeekofPurchase &lt;int&gt; | StoreID &lt;fct&gt; | PriceCH &lt;dbl&gt; | PriceMM &lt;dbl&gt; | DiscCH &lt;dbl&gt; | DiscMM &lt;dbl&gt; | SpecialCH &lt;fct&gt; | SpecialMM &lt;fct&gt; | LoyalCH &lt;dbl&gt; | Purchase.MM &lt;int&gt; |\n",
       "|---|---|---|---|---|---|---|---|---|---|---|\n",
       "| 2 | 239 | 1 | 1.75 | 1.99 | 0.00 | 0.3 | 0 | 1 | 0.600000 | 0 |\n",
       "| 3 | 245 | 1 | 1.86 | 2.09 | 0.17 | 0.0 | 0 | 0 | 0.680000 | 0 |\n",
       "| 4 | 227 | 1 | 1.69 | 1.69 | 0.00 | 0.0 | 0 | 0 | 0.400000 | 1 |\n",
       "| 7 | 232 | 7 | 1.69 | 1.99 | 0.00 | 0.4 | 1 | 1 | 0.972182 | 0 |\n",
       "| 8 | 234 | 7 | 1.75 | 1.99 | 0.00 | 0.4 | 1 | 0 | 0.977746 | 0 |\n",
       "| 16 | 278 | 7 | 2.06 | 2.13 | 0.00 | 0.0 | 0 | 0 | 0.795200 | 0 |\n",
       "\n"
      ],
      "text/plain": [
       "   WeekofPurchase StoreID PriceCH PriceMM DiscCH DiscMM SpecialCH SpecialMM\n",
       "2  239            1       1.75    1.99    0.00   0.3    0         1        \n",
       "3  245            1       1.86    2.09    0.17   0.0    0         0        \n",
       "4  227            1       1.69    1.69    0.00   0.0    0         0        \n",
       "7  232            7       1.69    1.99    0.00   0.4    1         1        \n",
       "8  234            7       1.75    1.99    0.00   0.4    1         0        \n",
       "16 278            7       2.06    2.13    0.00   0.0    0         0        \n",
       "   LoyalCH  Purchase.MM\n",
       "2  0.600000 0          \n",
       "3  0.680000 0          \n",
       "4  0.400000 1          \n",
       "7  0.972182 0          \n",
       "8  0.977746 0          \n",
       "16 0.795200 0          "
      ]
     },
     "metadata": {},
     "output_type": "display_data"
    }
   ],
   "source": [
    "head(final_train_set)"
   ]
  },
  {
   "cell_type": "markdown",
   "metadata": {},
   "source": [
    "### Question b)"
   ]
  },
  {
   "cell_type": "code",
   "execution_count": 30,
   "metadata": {},
   "outputs": [
    {
     "data": {
      "text/plain": [
       "\n",
       "Call:\n",
       "glm(formula = Purchase.MM ~ ., family = \"binomial\", data = final_train_set)\n",
       "\n",
       "Deviance Residuals: \n",
       "    Min       1Q   Median       3Q      Max  \n",
       "-2.8793  -0.5545  -0.2601   0.5669   2.7741  \n",
       "\n",
       "Coefficients:\n",
       "               Estimate Std. Error z value Pr(>|z|)    \n",
       "(Intercept)     0.97576    2.64650   0.369 0.712354    \n",
       "WeekofPurchase  0.01697    0.01556   1.091 0.275181    \n",
       "StoreID2        0.51292    0.40179   1.277 0.201743    \n",
       "StoreID3        0.50065    0.54789   0.914 0.360832    \n",
       "StoreID4        0.27029    0.58106   0.465 0.641804    \n",
       "StoreID7       -0.18345    0.40456  -0.453 0.650214    \n",
       "PriceCH         3.48544    2.55390   1.365 0.172330    \n",
       "PriceMM        -4.42241    1.29922  -3.404 0.000664 ***\n",
       "DiscCH         -4.44460    1.45730  -3.050 0.002289 ** \n",
       "DiscMM          1.65330    0.74403   2.222 0.026278 *  \n",
       "SpecialCH1      0.01574    0.47320   0.033 0.973469    \n",
       "SpecialMM1      0.21249    0.37317   0.569 0.569068    \n",
       "LoyalCH        -6.25335    0.58299 -10.726  < 2e-16 ***\n",
       "---\n",
       "Signif. codes:  0 '***' 0.001 '**' 0.01 '*' 0.05 '.' 0.1 ' ' 1\n",
       "\n",
       "(Dispersion parameter for binomial family taken to be 1)\n",
       "\n",
       "    Null deviance: 712.19  on 534  degrees of freedom\n",
       "Residual deviance: 419.44  on 522  degrees of freedom\n",
       "AIC: 445.44\n",
       "\n",
       "Number of Fisher Scoring iterations: 5\n"
      ]
     },
     "metadata": {},
     "output_type": "display_data"
    }
   ],
   "source": [
    "logit1 <- glm(Purchase.MM ~., data = final_train_set, family = \"binomial\")\n",
    "summary(logit1)"
   ]
  },
  {
   "cell_type": "markdown",
   "metadata": {},
   "source": [
    "- Two factors are highly significant: `PriceMM` (negative effect on probability of purchasing at MM, which seems to be relevant), `LoyalCH` (negative effect on probability of purchasing at MM, which seems to be relevant too)\n",
    "- One factor is significant `DiscCH`, negative effect on probability of purchasing at MM, which is relevant\n",
    "- One factor is a bit significant `DiscMM`, positive effect on probability of purchasing at MM, which is relevant\n",
    "- The other factors in this model are not significant"
   ]
  },
  {
   "cell_type": "markdown",
   "metadata": {},
   "source": [
    "### Question c)"
   ]
  },
  {
   "cell_type": "code",
   "execution_count": 31,
   "metadata": {},
   "outputs": [
    {
     "data": {
      "text/html": [
       "0.001"
      ],
      "text/latex": [
       "0.001"
      ],
      "text/markdown": [
       "0.001"
      ],
      "text/plain": [
       "[1] 0.001"
      ]
     },
     "metadata": {},
     "output_type": "display_data"
    },
    {
     "data": {
      "text/plain": [
       "10 x 1 sparse Matrix of class \"dgCMatrix\"\n",
       "                         s0\n",
       "(Intercept)     0.055351790\n",
       "WeekofPurchase  0.007507834\n",
       "StoreID        -0.109458712\n",
       "PriceCH         4.985522948\n",
       "PriceMM        -4.018996880\n",
       "DiscCH         -4.323224722\n",
       "DiscMM          1.510671551\n",
       "SpecialCH       .          \n",
       "SpecialMM       0.192670649\n",
       "LoyalCH        -6.190131340"
      ]
     },
     "metadata": {},
     "output_type": "display_data"
    }
   ],
   "source": [
    "y <- final_train_set$Purchase.MM\n",
    "x <- data.matrix(final_train_set[,-10])\n",
    "\n",
    "lmbda <- c(0.001, 0.01, 0.1, 1, 10, 100, 1000)\n",
    "# alpha = 1 is lasso regularization\n",
    "\n",
    "# we have to chose type.measure between \"auc\" and \"class\"\n",
    "# we choose \"class\" for now, and will change the threshold if needed \n",
    "# in further exploration\n",
    "\n",
    "cv.out <- cv.glmnet(x,y, alpha = 1, lambda = lmbda, type.measure = \"class\", \n",
    "                    nfolds = 5, family = \"binomial\")\n",
    "\n",
    "bestlam <- cv.out$lambda.min\n",
    "bestlam\n",
    "\n",
    "# final model on training data\n",
    "best.lasso <- glmnet(x,y, alpha = 1, lambda = bestlam, type.measure = \"class\",\n",
    "                     family = \"binomial\")\n",
    "coef(best.lasso)"
   ]
  },
  {
   "cell_type": "markdown",
   "metadata": {},
   "source": [
    "The best linear regression is obtained using $\\lambda = 0.001$ and gives coefficients as can be seen above (shuts out 1 coefficient)."
   ]
  },
  {
   "cell_type": "markdown",
   "metadata": {},
   "source": [
    "### Question d)"
   ]
  },
  {
   "cell_type": "code",
   "execution_count": 32,
   "metadata": {},
   "outputs": [
    {
     "data": {
      "text/plain": [
       "Confusion Matrix and Statistics\n",
       "\n",
       "          Reference\n",
       "Prediction   0   1\n",
       "         0 288  48\n",
       "         1  42 157\n",
       "                                          \n",
       "               Accuracy : 0.8318          \n",
       "                 95% CI : (0.7973, 0.8625)\n",
       "    No Information Rate : 0.6168          \n",
       "    P-Value [Acc > NIR] : <2e-16          \n",
       "                                          \n",
       "                  Kappa : 0.6421          \n",
       "                                          \n",
       " Mcnemar's Test P-Value : 0.5982          \n",
       "                                          \n",
       "            Sensitivity : 0.8727          \n",
       "            Specificity : 0.7659          \n",
       "         Pos Pred Value : 0.8571          \n",
       "         Neg Pred Value : 0.7889          \n",
       "             Prevalence : 0.6168          \n",
       "         Detection Rate : 0.5383          \n",
       "   Detection Prevalence : 0.6280          \n",
       "      Balanced Accuracy : 0.8193          \n",
       "                                          \n",
       "       'Positive' Class : 0               \n",
       "                                          "
      ]
     },
     "metadata": {},
     "output_type": "display_data"
    },
    {
     "data": {
      "text/html": [
       "'The training classification error is: 0.168224299065421'"
      ],
      "text/latex": [
       "'The training classification error is: 0.168224299065421'"
      ],
      "text/markdown": [
       "'The training classification error is: 0.168224299065421'"
      ],
      "text/plain": [
       "[1] \"The training classification error is: 0.168224299065421\""
      ]
     },
     "metadata": {},
     "output_type": "display_data"
    }
   ],
   "source": [
    "LDA <- lda(y ~ x)\n",
    "train_predictions <- predict(LDA, final_train_set[,-10])\n",
    "train_predictions <- as.integer(train_predictions$class) - 1 \n",
    "# formating to compare to y\n",
    "classification_error <- sum(abs(y - train_predictions))/length(y)\n",
    "# Output a confusion matrix using caret package\n",
    "\n",
    "confusionMatrix(factor(train_predictions), factor(y))\n",
    "sprintf(\"The training classification error is: %s\", classification_error)"
   ]
  },
  {
   "cell_type": "markdown",
   "metadata": {},
   "source": [
    "### Question e)"
   ]
  },
  {
   "cell_type": "code",
   "execution_count": 33,
   "metadata": {},
   "outputs": [
    {
     "data": {
      "text/html": [
       "'Best k is 39 with error of 0.186915887850467 on the training dataset'"
      ],
      "text/latex": [
       "'Best k is 39 with error of 0.186915887850467 on the training dataset'"
      ],
      "text/markdown": [
       "'Best k is 39 with error of 0.186915887850467 on the training dataset'"
      ],
      "text/plain": [
       "[1] \"Best k is 39 with error of 0.186915887850467 on the training dataset\""
      ]
     },
     "metadata": {},
     "output_type": "display_data"
    }
   ],
   "source": [
    "# Here we use LOOCV(leave one out cross validation), \n",
    "# and try all values for k from 1 to 100 \n",
    "# (we assume that afterwards the bias is too high)\n",
    "# we need to scale the data for knn\n",
    "x.knn <- scale(x, center = TRUE, scale = TRUE)\n",
    "error <- 1\n",
    "best.k <- 1\n",
    "for (k in seq(1, 100, 1)){\n",
    "    knn.cv.out <- knn.cv(x.knn,y, k = k)\n",
    "    knn.cv.out <- as.integer(knn.cv.out) - 1\n",
    "    current.error <- sum(abs(y - knn.cv.out))/length(y)\n",
    "    if (current.error < error){\n",
    "        error <- current.error\n",
    "        best.k <- k\n",
    "    }\n",
    "}\n",
    "sprintf(\"Best k is %s with error of %s on the training dataset\", best.k, error)"
   ]
  },
  {
   "cell_type": "markdown",
   "metadata": {},
   "source": [
    "### Question f)"
   ]
  },
  {
   "cell_type": "code",
   "execution_count": 34,
   "metadata": {},
   "outputs": [
    {
     "data": {
      "text/html": [
       "'The logistic regression classification error on the validation set is : 0.258858025474912'"
      ],
      "text/latex": [
       "'The logistic regression classification error on the validation set is : 0.258858025474912'"
      ],
      "text/markdown": [
       "'The logistic regression classification error on the validation set is : 0.258858025474912'"
      ],
      "text/plain": [
       "[1] \"The logistic regression classification error on the validation set is : 0.258858025474912\""
      ]
     },
     "metadata": {},
     "output_type": "display_data"
    }
   ],
   "source": [
    "# Best logistic regression, fitted on training set, tested on validation set\n",
    "\n",
    "#data\n",
    "y <- final_train_set$Purchase.MM\n",
    "x <- final_train_set[,-10]\n",
    "\n",
    "val_y <- final_validation_set$Purchase.MM\n",
    "val_x <- final_validation_set[,-10]\n",
    "\n",
    "# formula\n",
    "fmla <- paste(\"Purchase.MM ~\", paste(names(final_train_set[, -10]), collapse = \" + \"))\n",
    "\n",
    "#model\n",
    "logit1 <- glm(fmla, data = final_train_set, family = \"binomial\")\n",
    "#predictions\n",
    "val_predictions <- predict(logit1, val_x, type = \"response\")\n",
    "#error\n",
    "logit_val_error <- sum(abs(val_y - val_predictions))/length(val_y)\n",
    "sprintf(\"The logistic regression classification error on the validation set is : %s\",\n",
    "        logit_val_error)"
   ]
  },
  {
   "cell_type": "code",
   "execution_count": 35,
   "metadata": {},
   "outputs": [
    {
     "data": {
      "text/html": [
       "'The lasso regression classification error on the validation set is : 0.287272788246781'"
      ],
      "text/latex": [
       "'The lasso regression classification error on the validation set is : 0.287272788246781'"
      ],
      "text/markdown": [
       "'The lasso regression classification error on the validation set is : 0.287272788246781'"
      ],
      "text/plain": [
       "[1] \"The lasso regression classification error on the validation set is : 0.287272788246781\""
      ]
     },
     "metadata": {},
     "output_type": "display_data"
    }
   ],
   "source": [
    "# Best Logistic with LASSO regression, fitted on training set, tested on validation set\n",
    "\n",
    "#data\n",
    "y <- final_train_set$Purchase.MM\n",
    "x <- data.matrix(final_train_set[,-10])\n",
    "\n",
    "val_y <- final_validation_set$Purchase.MM\n",
    "val_x <- data.matrix(final_validation_set[,-10])\n",
    "\n",
    "#model\n",
    "best.lasso <- glmnet(x,y, alpha = 1, lambda = bestlam)\n",
    "\n",
    "#prediction\n",
    "lasso_predictions <- predict(best.lasso, newx = val_x)\n",
    "\n",
    "#error\n",
    "lasso_val_error <- sum(abs(val_y - lasso_predictions))/length(val_y)\n",
    "sprintf(\"The lasso regression classification error on the validation set is : %s\", \n",
    "        lasso_val_error)"
   ]
  },
  {
   "cell_type": "code",
   "execution_count": 36,
   "metadata": {},
   "outputs": [
    {
     "data": {
      "text/html": [
       "'The LDA classification error on the validation set is : 0.191011235955056'"
      ],
      "text/latex": [
       "'The LDA classification error on the validation set is : 0.191011235955056'"
      ],
      "text/markdown": [
       "'The LDA classification error on the validation set is : 0.191011235955056'"
      ],
      "text/plain": [
       "[1] \"The LDA classification error on the validation set is : 0.191011235955056\""
      ]
     },
     "metadata": {},
     "output_type": "display_data"
    }
   ],
   "source": [
    "# LDA, fitted on training set, tested on validation set\n",
    "\n",
    "#data\n",
    "y <- final_train_set$Purchase.MM\n",
    "x <- data.matrix(final_train_set[,-10])\n",
    "\n",
    "val_y <- final_validation_set$Purchase.MM\n",
    "val_x <- data.matrix(final_validation_set[,-10])\n",
    "\n",
    "#model\n",
    "LDA <- lda(y~x)\n",
    "\n",
    "x <- val_x # trick to avoid an error due to the names of the variables\n",
    "\n",
    "#prediction\n",
    "lda_predictions <- predict(LDA, data.frame(x))\n",
    "lda_predictions <- as.integer(lda_predictions$class) - 1 \n",
    "# formating to compare to val_y\n",
    "lda_val_error <- sum(abs(val_y - lda_predictions))/length(val_y)\n",
    "sprintf(\"The LDA classification error on the validation set is : %s\", lda_val_error)"
   ]
  },
  {
   "cell_type": "code",
   "execution_count": 37,
   "metadata": {},
   "outputs": [
    {
     "data": {
      "text/html": [
       "'The KNN classification error on the validation set is : 0.213483146067416'"
      ],
      "text/latex": [
       "'The KNN classification error on the validation set is : 0.213483146067416'"
      ],
      "text/markdown": [
       "'The KNN classification error on the validation set is : 0.213483146067416'"
      ],
      "text/plain": [
       "[1] \"The KNN classification error on the validation set is : 0.213483146067416\""
      ]
     },
     "metadata": {},
     "output_type": "display_data"
    }
   ],
   "source": [
    "# Best KNN (k = 39) on training set, tested on validation set\n",
    "\n",
    "#data\n",
    "y <- final_train_set$Purchase.MM\n",
    "x <- scale(data.matrix(final_train_set[,-10]))\n",
    "\n",
    "val_y <- final_validation_set$Purchase.MM\n",
    "val_x <- scale(data.matrix(final_validation_set[,-10]))\n",
    "\n",
    "#model and prediction\n",
    "knn_predictions <- knn(x, val_x, y, k = best.k)\n",
    "knn_predictions <- as.integer(knn_predictions) - 1\n",
    "#error\n",
    "knn_val_error <- sum(abs(val_y - knn_predictions))/length(val_y)\n",
    "sprintf(\"The KNN classification error on the validation set is : %s\", knn_val_error)"
   ]
  },
  {
   "cell_type": "markdown",
   "metadata": {},
   "source": [
    "Based on the validation set classification errors, the ranking of the models is the following:\n",
    "1. LDA\n",
    "2. KNN\n",
    "3. Logit\n",
    "4. Logit with LASSO"
   ]
  },
  {
   "cell_type": "markdown",
   "metadata": {},
   "source": [
    "### Question g)"
   ]
  },
  {
   "cell_type": "code",
   "execution_count": 38,
   "metadata": {},
   "outputs": [
    {
     "data": {
      "text/html": [
       "535"
      ],
      "text/latex": [
       "535"
      ],
      "text/markdown": [
       "535"
      ],
      "text/plain": [
       "[1] 535"
      ]
     },
     "metadata": {},
     "output_type": "display_data"
    },
    {
     "data": {
      "text/html": [
       "267"
      ],
      "text/latex": [
       "267"
      ],
      "text/markdown": [
       "267"
      ],
      "text/plain": [
       "[1] 267"
      ]
     },
     "metadata": {},
     "output_type": "display_data"
    },
    {
     "data": {
      "text/html": [
       "802"
      ],
      "text/latex": [
       "802"
      ],
      "text/markdown": [
       "802"
      ],
      "text/plain": [
       "[1] 802"
      ]
     },
     "metadata": {},
     "output_type": "display_data"
    },
    {
     "data": {
      "text/html": [
       "0"
      ],
      "text/latex": [
       "0"
      ],
      "text/markdown": [
       "0"
      ],
      "text/plain": [
       "[1] 0"
      ]
     },
     "metadata": {},
     "output_type": "display_data"
    }
   ],
   "source": [
    "# build a dataframe that has train and validation data\n",
    "final_train_and_validation_set <- rbind(final_train_set, final_validation_set)\n",
    "# check that everything went well\n",
    "length(final_train_set[, 1])\n",
    "length(final_validation_set[, 1])\n",
    "length(final_train_and_validation_set[, 1])\n",
    "sum(is.na(final_train_and_validation_set))"
   ]
  },
  {
   "cell_type": "code",
   "execution_count": 39,
   "metadata": {},
   "outputs": [
    {
     "data": {
      "text/html": [
       "'The LDA classification error on the test set is : 0.138059701492537'"
      ],
      "text/latex": [
       "'The LDA classification error on the test set is : 0.138059701492537'"
      ],
      "text/markdown": [
       "'The LDA classification error on the test set is : 0.138059701492537'"
      ],
      "text/plain": [
       "[1] \"The LDA classification error on the test set is : 0.138059701492537\""
      ]
     },
     "metadata": {},
     "output_type": "display_data"
    }
   ],
   "source": [
    "# LDA, fitted on training + validation set, tested on test set\n",
    "\n",
    "#data\n",
    "y <- final_train_and_validation_set$Purchase.MM\n",
    "x <- data.matrix(final_train_and_validation_set[,-10])\n",
    "\n",
    "test_y <- final_test_set$Purchase.MM\n",
    "test_x <- data.matrix(final_test_set[,-10])\n",
    "\n",
    "#model\n",
    "final_LDA <- lda(y~x)\n",
    "\n",
    "x <- test_x # trick to avoid an error due to the names of the variables\n",
    "\n",
    "#prediction\n",
    "lda_test_predictions <- predict(final_LDA, data.frame(x))\n",
    "lda_test_predictions <- as.integer(lda_test_predictions$class) -1 \n",
    "# formating to compare to test_y\n",
    "\n",
    "lda_test_error <- sum(abs(test_y - lda_test_predictions))/length(test_y)\n",
    "sprintf(\"The LDA classification error on the test set is : %s\", lda_test_error)"
   ]
  },
  {
   "cell_type": "markdown",
   "metadata": {},
   "source": [
    "### Question h)"
   ]
  },
  {
   "cell_type": "code",
   "execution_count": 40,
   "metadata": {},
   "outputs": [],
   "source": [
    "# Trying to predict CH customers (label = 0 thus negative)\n",
    "# a True Negative (predict = CH, and CH customer) leads to $3.50 profit\n",
    "# a False Negative (Predict = CH, and MM customer) is a waste of $0.50 \n",
    "\n",
    "# LDA, fitted on training + validation set, tested on test set\n",
    "\n",
    "#data\n",
    "y <- final_train_and_validation_set$Purchase.MM\n",
    "x <- data.matrix(final_train_and_validation_set[,-10])\n",
    "\n",
    "test_y <- final_test_set$Purchase.MM\n",
    "test_x <- data.matrix(final_test_set[,-10])\n",
    "\n",
    "#model\n",
    "final_LDA <- lda(y~x)\n",
    "\n",
    "x <- test_x # trick to avoid an error due to the names of the variables\n",
    "\n",
    "#prediction\n",
    "lda_test_predictions <- predict(final_LDA, data.frame(x))\n",
    "MM.prob <- lda_test_predictions$posterior[, 2]\n",
    "\n",
    "step <- 0.005\n",
    "thresholds <- seq(0, 1, step)\n",
    "FP_points <- seq(0, 1, step)\n",
    "TP_points <- seq(0, 1, step)\n",
    "possible_profits <- seq(0, 1, step)\n",
    "\n",
    "i <- 0\n",
    "\n",
    "for (threshold in thresholds){\n",
    "    lda_test_predictions <- predict(final_LDA, data.frame(x))\n",
    "    MM.prob <- lda_test_predictions$posterior[, 2]\n",
    "    lda_test_predictions <- as.integer(MM.prob > threshold)\n",
    "    # create a vector where\n",
    "    # -0.5 is False Negative\n",
    "    # 0 is True Negative\n",
    "    # 0.5 is True Positive\n",
    "    # 1 False Positive\n",
    "    classification_vector <- lda_test_predictions - 0.5*test_y\n",
    "    FN <- sum(classification_vector == -0.5)\n",
    "    TN <- sum(classification_vector == 0)\n",
    "    TP <- sum(classification_vector == 0.5)\n",
    "    FP <- sum(classification_vector == 1)\n",
    "    \n",
    "    profit <- 3.50*TN - 0.5*FN\n",
    "\n",
    "    FP_points[i] <- FP/(FP + TN)\n",
    "    TP_points[i] <- TP/(TP + FN)\n",
    "    possible_profits[i] <- profit\n",
    "    i <- i + 1\n",
    "}"
   ]
  },
  {
   "cell_type": "code",
   "execution_count": 41,
   "metadata": {},
   "outputs": [
    {
     "data": {
      "image/png": "[encoded data removed]",
      "text/plain": [
       "Plot with title \"ROC curve\""
      ]
     },
     "metadata": {
      "image/png": {
       "height": 420,
       "width": 420
      }
     },
     "output_type": "display_data"
    }
   ],
   "source": [
    "plot(FP_points, TP_points, \n",
    "    xlab = \"False Positive Rate\", ylab = \"True Positive Rate\", \n",
    "    main = \"ROC curve\", col = 2)\n",
    "abline(0, 1, col = 1)"
   ]
  },
  {
   "cell_type": "code",
   "execution_count": 42,
   "metadata": {},
   "outputs": [
    {
     "data": {
      "text/html": [
       "'The best threshold is 0.9 and gives a max payoff of 527'"
      ],
      "text/latex": [
       "'The best threshold is 0.9 and gives a max payoff of 527'"
      ],
      "text/markdown": [
       "'The best threshold is 0.9 and gives a max payoff of 527'"
      ],
      "text/plain": [
       "[1] \"The best threshold is 0.9 and gives a max payoff of 527\""
      ]
     },
     "metadata": {},
     "output_type": "display_data"
    },
    {
     "data": {
      "image/png": "[encoded data removed]",
      "text/plain": [
       "Plot with title \"Payoff vs. Classification Thresholds\""
      ]
     },
     "metadata": {
      "image/png": {
       "height": 420,
       "width": 420
      }
     },
     "output_type": "display_data"
    }
   ],
   "source": [
    "plot(thresholds, possible_profits, \n",
    "    xlab = \"Thresholds\", ylab = \"Payoff\", \n",
    "    main = \"Payoff vs. Classification Thresholds\")\n",
    "best.threshold <- thresholds[which.max(possible_profits)]\n",
    "max.profit <- max(possible_profits)\n",
    "abline(v = best.threshold, col = 2)\n",
    "legend(\"topleft\", c(\"Best threshold\"), lty = c(1), col = c(2))\n",
    "sprintf(\"The best threshold is %s and gives a max payoff of %s\", best.threshold,\n",
    "        max.profit)"
   ]
  },
  {
   "cell_type": "markdown",
   "metadata": {},
   "source": [
    "# Problem 2"
   ]
  },
  {
   "cell_type": "markdown",
   "metadata": {},
   "source": [
    "There are multiple ways of building recommendation systems using logistic regression and shrinkage. For all of them we imagine that we have our dataset with the music represented in features with weights from 1 to 5. \n",
    "- **The personnal recommendation system** : Let's suppose that a user has liked 1000 songs, and disliked 1000. We can join our previous dataset to this list of liked songs in order to build a logistic regression / lasso model. This model will predict the probability that this particular user likes another song that is not liked yet\n",
    "- **The grouped recommendation system** : The problem of this previous method is that it requires every user to like/dislike a lot of songs (build the target column of the dataset in fact). Another way could be to clusterize listeners based on their tastes and then use the information on the whole cluster as a target variable (if in the cluster of people there are more likes than dislikes for a particular song, then we assign to this song a 1; and the opposite way). But this assumes that we are able to cluster people (and algorithms are close to KNN, so we might know KNN as well)\n",
    "\n",
    "\n",
    "**Cons of logistic regression**\n",
    "- In either case, as Logistic Regression is supervised learning, we need to create a target variable. This can be liked songs as mentionned, or maybe a binary variable derived from the number of time someone has listened to a song, etc.\n",
    "- For each user or group of user we need to create a different model\n",
    "- The boundaries for this method are linear, but we are not sure that it reflects true musical tastes\n",
    "- Logistics regression is based on the assumption of linearity between the logit of the outcome and the independent variables which might not be true in reality.\n",
    "\n",
    "**Pros of logistic regression**\n",
    "- Easy to use and efficient to train\n",
    "- Good first model\n",
    "- Gives statistical significance of variables\n",
    "- It can easily extend to multiple classes and a natural probabilistic view of class predictions\n",
    "- It makes no assumptions about distribution of classes in feature space"
   ]
  }
 ],
 "metadata": {
  "interpreter": {
   "hash": "7bef2f2c4380e55013fb26998d0961761eb21b9fedf02e94003da56b94b0b2db"
  },
  "kernelspec": {
   "display_name": "R",
   "language": "R",
   "name": "ir"
  },
  "language_info": {
   "codemirror_mode": "r",
   "file_extension": ".r",
   "mimetype": "text/x-r-source",
   "name": "R",
   "pygments_lexer": "r",
   "version": "4.1.2"
  }
 },
 "nbformat": 4,
 "nbformat_minor": 2
}
